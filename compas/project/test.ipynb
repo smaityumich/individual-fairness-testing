{
 "metadata": {
  "language_info": {
   "codemirror_mode": {
    "name": "ipython",
    "version": 3
   },
   "file_extension": ".py",
   "mimetype": "text/x-python",
   "name": "python",
   "nbconvert_exporter": "python",
   "pygments_lexer": "ipython3",
   "version": 3
  },
  "orig_nbformat": 2,
  "kernelspec": {
   "name": "python_defaultSpec_1597071579955",
   "display_name": "Python 3.7.4 64-bit"
  }
 },
 "nbformat": 4,
 "nbformat_minor": 2,
 "cells": [
  {
   "cell_type": "code",
   "execution_count": 1,
   "metadata": {},
   "outputs": [],
   "source": [
    "import numpy as np\n",
    "import tensorflow as tf\n",
    "import compas_data as compas\n",
    "from sklearn import linear_model\n",
    "import scipy"
   ]
  },
  {
   "cell_type": "code",
   "execution_count": 6,
   "metadata": {
    "tags": []
   },
   "outputs": [
    {
     "output_type": "stream",
     "name": "stdout",
     "text": "(5278, 8)\n['sex', 'race', 'priors_count', 'age_cat=25 to 45', 'age_cat=Greater than 45', 'age_cat=Less than 25', 'c_charge_degree=F', 'c_charge_degree=M']\nsex\nrace\n"
    }
   ],
   "source": [
    "x_train, x_test, y_train, y_test, y_sex_train, y_sex_test,\\\n",
    "     y_race_train, y_race_test, feature_names = compas.get_compas_train_test()\n",
    "x_train, x_test = x_train[:, 2:], x_test[:, 2:]\n",
    "def standardize(x):\n",
    "    return (x - np.mean(x))/np.std(x)\n",
    "for i in range(1, 5):\n",
    "    x_train[:, i] = standardize(x_train[:, i])\n",
    "    x_test[:, i] = standardize(x_test[:, i])"
   ]
  },
  {
   "cell_type": "code",
   "execution_count": 7,
   "metadata": {},
   "outputs": [],
   "source": [
    "sensetive_directions = []\n",
    "protected_regression = linear_model.LogisticRegression(fit_intercept = True)\n",
    "protected_regression.fit(x_train, y_sex_train)\n",
    "sensetive_directions.append(protected_regression.coef_.reshape((-1,)))\n",
    "protected_regression.fit(x_train, y_race_train)\n",
    "sensetive_directions.append(protected_regression.coef_.reshape((-1,)))\n",
    "sensetive_directions = np.array(sensetive_directions)\n",
    "\n",
    "sensetive_directions = scipy.linalg.orth(sensetive_directions.T).T\n",
    "for i, s in enumerate(sensetive_directions):\n",
    "    while np.linalg.norm(s) != 1:\n",
    "        s = s/ np.linalg.norm(s)\n",
    "    sensetive_directions[i] = s"
   ]
  },
  {
   "cell_type": "code",
   "execution_count": 8,
   "metadata": {},
   "outputs": [],
   "source": [
    "x_train, x_test = tf.cast(x_train, dtype=tf.float32), tf.cast(x_test, dtype = tf.float32)\n",
    "sensetive_directions = tf.cast(sensetive_directions, dtype=tf.float32)\n",
    "y_train, y_test = y_train.astype('int32'), y_test.astype('int32')\n",
    "y_train, y_test = tf.one_hot(y_train, 2), tf.one_hot(y_test, 2)"
   ]
  },
  {
   "cell_type": "code",
   "execution_count": 9,
   "metadata": {},
   "outputs": [
    {
     "output_type": "execute_result",
     "data": {
      "text/plain": "<tf.Tensor: shape=(4222, 5), dtype=float32, numpy=\narray([[-0.7103805 , -1.1656154 ,  1.9390371 , -0.5216032 , -1.3554946 ],\n       [-0.50492585, -1.1656154 ,  1.9390371 , -0.5216032 , -1.3554946 ],\n       [-0.7103805 , -1.1656154 ,  1.9390371 , -0.5216032 ,  0.7377381 ],\n       ...,\n       [-0.09401665,  0.85791594, -0.5157199 , -0.5216032 ,  0.7377381 ],\n       [-0.7103805 , -1.1656154 ,  1.9390371 , -0.5216032 ,  0.7377381 ],\n       [-0.7103805 , -1.1656154 , -0.5157199 ,  1.9171661 ,  0.7377381 ]],\n      dtype=float32)>"
     },
     "metadata": {},
     "execution_count": 9
    }
   ],
   "source": [
    "x_train"
   ]
  },
  {
   "cell_type": "code",
   "execution_count": 10,
   "metadata": {},
   "outputs": [
    {
     "output_type": "execute_result",
     "data": {
      "text/plain": "<tf.Tensor: shape=(1056, 5), dtype=float32, numpy=\narray([[-0.50492585,  0.8819171 , -0.49674264, -0.56130964,  0.70409566],\n       [-0.7103805 ,  0.8819171 , -0.49674264, -0.56130964,  0.70409566],\n       [-0.7103805 ,  0.8819171 , -0.49674264, -0.56130964,  0.70409566],\n       ...,\n       [-0.29947126, -1.1338934 , -0.49674264,  1.7815479 , -1.4202615 ],\n       [ 1.3441656 , -1.1338934 ,  2.013115  , -0.56130964,  0.70409566],\n       [ 0.31689256,  0.8819171 , -0.49674264, -0.56130964, -1.4202615 ]],\n      dtype=float32)>"
     },
     "metadata": {},
     "execution_count": 10
    }
   ],
   "source": [
    "x_test"
   ]
  },
  {
   "cell_type": "code",
   "execution_count": 11,
   "metadata": {},
   "outputs": [
    {
     "output_type": "execute_result",
     "data": {
      "text/plain": "<tf.Tensor: shape=(2, 5), dtype=float32, numpy=\narray([[-0.8898071 , -0.00434467,  0.30173835, -0.29453692, -0.17443155],\n       [ 0.4009065 , -0.2892771 ,  0.76533276, -0.4117101 , -0.01879575]],\n      dtype=float32)>"
     },
     "metadata": {},
     "execution_count": 11
    }
   ],
   "source": [
    "sensetive_directions"
   ]
  },
  {
   "cell_type": "code",
   "execution_count": null,
   "metadata": {},
   "outputs": [],
   "source": []
  }
 ]
}