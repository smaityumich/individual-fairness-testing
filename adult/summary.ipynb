{
 "cells": [
  {
   "cell_type": "markdown",
   "metadata": {},
   "source": [
    "# Summary table for *Adult* data\n",
    "\n",
    "Here we extract the summary measures for *Adult* data for four classifiers: (1) baseline, (2) project, (3) reduction, and (4) SenSR.\n",
    "For each of the classifiers we perform gradient flow attack with step size $\\frac{1}{100\\times i^{2/3}},$ where $i$ is the current step number. We perform 200 steps of attacks on each data points. \n",
    "\n",
    "First, we load the summary data for all experiments, and compile it in a panda dataframe. "
   ]
  },
  {
   "cell_type": "code",
   "execution_count": 1,
   "metadata": {},
   "outputs": [],
   "source": [
    "import re\n",
    "import pandas as pd\n",
    "with open('summary.out', 'r') as f:\n",
    "    data = f.read()\n",
    "entries = re.split('\\n', data)[:-1]\n",
    "entries_dict = [eval(e) for e in entries]\n",
    "data = pd.DataFrame(entries_dict)\n",
    "data['reject-entropy-loss'] = data['pval'] < 0.05"
   ]
  },
  {
   "cell_type": "code",
   "execution_count": 2,
   "metadata": {},
   "outputs": [],
   "source": [
    "lr = 1e-2\n",
    "data_lr = data.loc[data['lr'] == lr]\n",
    "data_lr = data_lr.rename(columns= {'average_odds_difference_gen': 'AOD-gen', 'average_odds_difference_race': 'AOD-race', 'statistical_parity_difference_gen': 'SPD-gen', 'statistical_parity_difference_race': 'SPD-race', 'equal_opportunity_difference_race': 'EOD-race', 'equal_opportunity_difference_gen': 'EOD-gen', 'lb': 'lb-entropy-loss'})"
   ]
  },
  {
   "cell_type": "markdown",
   "metadata": {},
   "source": [
    "We only extract the following measures: balanced accuracy, average odds difference for gender and race and lower bound and proportion of times the test being rejected. "
   ]
  },
  {
   "cell_type": "code",
   "execution_count": 3,
   "metadata": {},
   "outputs": [],
   "source": [
    "measure = ['bal_acc', 'AOD-gen', 'AOD-race', 'lb-entropy-loss', 'reject-entropy-loss']\n",
    "agg_dict = dict()\n",
    "for key in measure:\n",
    "    if key == 'reject-entropy-loss':\n",
    "        agg_dict[key] = ['mean']\n",
    "    else:\n",
    "        agg_dict[key] = ['mean', 'std']\n",
    "result = data_lr.groupby(['algo'], as_index=False).agg(agg_dict)\n",
    "result['algo'] = ['baseline', 'project', 'reduction', 'sensr']"
   ]
  },
  {
   "cell_type": "code",
   "execution_count": 4,
   "metadata": {},
   "outputs": [],
   "source": [
    "import re\n",
    "import pandas as pd\n",
    "import numpy as np\n",
    "import matplotlib.pyplot as plt\n",
    "from scipy.stats import iqr\n",
    "with open('summary-all.txt', 'r') as f:\n",
    "    data = f.read()\n",
    "entries = re.split('\\n', data)[:-1]\n",
    "entries_dict = []\n",
    "for e in entries:\n",
    "    try:\n",
    "        entries_dict.append(eval(e))\n",
    "    except:\n",
    "        continue\n",
    "data = pd.DataFrame(entries_dict)\n",
    "data = data.loc[data['step'] == 1000]\n",
    "\n",
    "\n",
    "summary_vars = ['sum-ratio', 'sum-sq-ratio', 'sample-size-ratios', 'sum-start', 'sum-end', 'sum-cov', 'sample-size-0-1']\n",
    "s_dict = dict()\n",
    "for s in summary_vars:\n",
    "    s_dict[s] = {'sum'}\n",
    "\n",
    "\n",
    "summary = data.groupby(['lr', 'expt', 'step', 'seed-data']).agg(s_dict)\n",
    "\n",
    "\n",
    "summary['start-mean'] = 1-summary['sum-start']['sum']/summary['sample-size-0-1']['sum']\n",
    "summary['end-mean'] = 1-summary['sum-end']['sum']/summary['sample-size-0-1']['sum']\n",
    "summary['cov'] = summary['sum-cov']['sum']/summary['sample-size-0-1']['sum'] + summary['start-mean']\\\n",
    "     + summary['end-mean'] - 1 - summary['start-mean'] * summary['end-mean']\n",
    "summary['start-sd'] = np.sqrt(summary['start-mean'] * (1-summary['start-mean']))\n",
    "summary['end-sd'] = np.sqrt(summary['end-mean'] * (1-summary['end-mean']))\n",
    "summary['n'] = summary['sample-size-0-1']['sum']\n",
    "summary = summary[['start-mean', 'start-sd', 'end-mean', 'end-sd', 'cov', 'n']]\n",
    "summary['ratio'] = summary['end-mean'] / summary['start-mean']\n",
    "summary['ratio-sd'] = np.sqrt((summary['start-mean']**2 * summary['end-sd']**2 \\\n",
    "    + summary['start-sd']**2 * summary['end-mean']**2\\\n",
    "         - 2 * summary['cov'] * summary['start-mean'] * summary['end-mean'])\\\n",
    "             /(summary['n'] * summary['start-mean']**4))\n",
    "\n",
    "summary['lb-01-loss'] = summary['ratio'] - 1.64 * summary['ratio-sd']\n",
    "summary['reject-01-loss'] = summary['lb-01-loss'] > 1.25\n",
    "summary['algo'] = ['baseline'] * 10 + ['project'] * 10 + ['reduction'] * 10 + ['sensr'] * 10\n",
    "summary_type = {'lb-01-loss': ['mean', 'std'], 'reject-01-loss': ['mean']}\n",
    "summary = summary.groupby(['algo']).agg(summary_type)"
   ]
  },
  {
   "cell_type": "code",
   "execution_count": 5,
   "metadata": {},
   "outputs": [
    {
     "output_type": "execute_result",
     "data": {
      "text/plain": [
       "              Balanced Acc $\\text{AOD}_{\\text{gen}}$  \\\n",
       "                                                       \n",
       "SenSR      0.765$\\pm$0.012          -0.074$\\pm$0.033   \n",
       "Reduction  0.800$\\pm$0.005           0.001$\\pm$0.021   \n",
       "Project    0.825$\\pm$0.003          -0.147$\\pm$0.015   \n",
       "Baseline   0.817$\\pm$0.007          -0.151$\\pm$0.026   \n",
       "\n",
       "          $\\text{AOD}_{\\text{race}}$            $T_n$ Rejection Prop  \n",
       "                                                                      \n",
       "SenSR               -0.048$\\pm$0.008  1.021$\\pm$0.008            0.0  \n",
       "Reduction           -0.027$\\pm$0.013  5.712$\\pm$2.264            1.0  \n",
       "Project             -0.053$\\pm$0.015  1.660$\\pm$0.355            0.9  \n",
       "Baseline            -0.061$\\pm$0.015  3.676$\\pm$2.164            1.0  "
      ],
      "text/html": "<div>\n<style scoped>\n    .dataframe tbody tr th:only-of-type {\n        vertical-align: middle;\n    }\n\n    .dataframe tbody tr th {\n        vertical-align: top;\n    }\n\n    .dataframe thead tr th {\n        text-align: left;\n    }\n</style>\n<table border=\"1\" class=\"dataframe\">\n  <thead>\n    <tr>\n      <th></th>\n      <th>Balanced Acc</th>\n      <th>$\\text{AOD}_{\\text{gen}}$</th>\n      <th>$\\text{AOD}_{\\text{race}}$</th>\n      <th>$T_n$</th>\n      <th>Rejection Prop</th>\n    </tr>\n    <tr>\n      <th></th>\n      <th></th>\n      <th></th>\n      <th></th>\n      <th></th>\n      <th></th>\n    </tr>\n  </thead>\n  <tbody>\n    <tr>\n      <th>SenSR</th>\n      <td>0.765$\\pm$0.012</td>\n      <td>-0.074$\\pm$0.033</td>\n      <td>-0.048$\\pm$0.008</td>\n      <td>1.021$\\pm$0.008</td>\n      <td>0.0</td>\n    </tr>\n    <tr>\n      <th>Reduction</th>\n      <td>0.800$\\pm$0.005</td>\n      <td>0.001$\\pm$0.021</td>\n      <td>-0.027$\\pm$0.013</td>\n      <td>5.712$\\pm$2.264</td>\n      <td>1.0</td>\n    </tr>\n    <tr>\n      <th>Project</th>\n      <td>0.825$\\pm$0.003</td>\n      <td>-0.147$\\pm$0.015</td>\n      <td>-0.053$\\pm$0.015</td>\n      <td>1.660$\\pm$0.355</td>\n      <td>0.9</td>\n    </tr>\n    <tr>\n      <th>Baseline</th>\n      <td>0.817$\\pm$0.007</td>\n      <td>-0.151$\\pm$0.026</td>\n      <td>-0.061$\\pm$0.015</td>\n      <td>3.676$\\pm$2.164</td>\n      <td>1.0</td>\n    </tr>\n  </tbody>\n</table>\n</div>"
     },
     "metadata": {},
     "execution_count": 5
    }
   ],
   "source": [
    "summary = pd.merge(result, summary, left_on='algo', right_on='algo')\n",
    "rows = ['sensr', 'reduction', 'baseline', 'project']\n",
    "row_names = ['Baseline', 'Project', 'Reduction','SenSR']\n",
    "colnames=['Balanced Acc', '$\\\\text{AOD}_{\\\\text{gen}}$', '$\\\\text{AOD}_{\\\\text{race}}$', '$T_n$', 'Rejection Prop']\n",
    "\n",
    "for i, c in enumerate(measure):\n",
    "    if c == 'reject-entropy-loss':\n",
    "        idx_best = (1-result[c]['mean']).idxmin()\n",
    "        result[colnames[i]] = (result[c]['mean']).apply('{:.1f}'.format)\n",
    "        #result.at[idx_best, colnames[i]] = '\\\\textbf{' + result[colnames[i]][idx_best] + '}'\n",
    "        \n",
    "    elif c == 'bal_acc':\n",
    "        idx_best = (result[c]['mean']).idxmax()\n",
    "        result[colnames[i]] = result[c]['mean'].apply(\"{:.3f}\".format)+ '$\\pm$' + result[c]['std'].apply(\"{:.3f}\".format)\n",
    "        best_val = result[colnames[i]][idx_best].split('$\\pm$')\n",
    "        best_val = '$\\pm$'.join(['\\\\textbf{' + best_val[0] + '}', best_val[1]])\n",
    "        #result.at[idx_best, colnames[i]] = best_val\n",
    "    elif c == 'lb-entropy-loss':\n",
    "        idx_best = (result[c]['mean']).idxmin()\n",
    "        result[colnames[i]] = result[c]['mean'].apply(\"{:.3f}\".format)+ '$\\pm$' + result[c]['std'].apply(\"{:.3f}\".format)\n",
    "        best_val = result[colnames[i]][idx_best].split('$\\pm$')\n",
    "        best_val = '$\\pm$'.join(['\\\\textbf{' + best_val[0] + '}', best_val[1]])\n",
    "        #result.at[idx_best, colnames[i]] = best_val\n",
    "    else:\n",
    "        idx_best = (result[c]['mean']).abs().idxmin()\n",
    "        result[colnames[i]] = result[c]['mean'].apply(\"{:.3f}\".format)+ '$\\pm$' + result[c]['std'].apply(\"{:.3f}\".format)\n",
    "        best_val = result[colnames[i]][idx_best].split('$\\pm$')\n",
    "        best_val = '$\\pm$'.join(['\\\\textbf{' + best_val[0] + '}', best_val[1]])\n",
    "        #result.at[idx_best, colnames[i]] = best_val\n",
    "ind = dict()\n",
    "for i, expt in enumerate(row_names):\n",
    "    ind[i] = expt\n",
    "    res = result[colnames].rename(index=ind)\n",
    "\n",
    "res = res.reindex(['SenSR', 'Reduction', 'Project', 'Baseline'])\n",
    "res"
   ]
  },
  {
   "cell_type": "code",
   "execution_count": 6,
   "metadata": {},
   "outputs": [
    {
     "output_type": "execute_result",
     "data": {
      "text/plain": [
       "                                                     \\\n",
       "                  bal-acc $\\text{AOD}_{\\text{gen}}$   \n",
       "Baseline            0.817                    -0.151   \n",
       "Project    \\textbf{0.825}                    -0.147   \n",
       "Reduction           0.800            \\textbf{0.001}   \n",
       "SenSR               0.765                    -0.074   \n",
       "\n",
       "                                        Entropy loss                 \\\n",
       "          $\\text{AOD}_{\\text{race}}$           $T_n$ rejection prop   \n",
       "Baseline                      -0.061           3.676            1.0   \n",
       "Project                       -0.053           1.660            0.9   \n",
       "Reduction            \\textbf{-0.027}           5.712            1.0   \n",
       "SenSR                         -0.048  \\textbf{1.021}   \\textbf{0.0}   \n",
       "\n",
       "                 0-1 loss                 \n",
       "                    $T_n$ rejection prop  \n",
       "Baseline            2.262            1.0  \n",
       "Project             1.800            0.8  \n",
       "Reduction           3.275            1.0  \n",
       "SenSR      \\textbf{1.081}   \\textbf{0.0}  "
      ],
      "text/html": "<div>\n<style scoped>\n    .dataframe tbody tr th:only-of-type {\n        vertical-align: middle;\n    }\n\n    .dataframe tbody tr th {\n        vertical-align: top;\n    }\n\n    .dataframe thead tr th {\n        text-align: left;\n    }\n</style>\n<table border=\"1\" class=\"dataframe\">\n  <thead>\n    <tr>\n      <th></th>\n      <th colspan=\"3\" halign=\"left\"></th>\n      <th colspan=\"2\" halign=\"left\">Entropy loss</th>\n      <th colspan=\"2\" halign=\"left\">0-1 loss</th>\n    </tr>\n    <tr>\n      <th></th>\n      <th>bal-acc</th>\n      <th>$\\text{AOD}_{\\text{gen}}$</th>\n      <th>$\\text{AOD}_{\\text{race}}$</th>\n      <th>$T_n$</th>\n      <th>rejection prop</th>\n      <th>$T_n$</th>\n      <th>rejection prop</th>\n    </tr>\n  </thead>\n  <tbody>\n    <tr>\n      <th>Baseline</th>\n      <td>0.817</td>\n      <td>-0.151</td>\n      <td>-0.061</td>\n      <td>3.676</td>\n      <td>1.0</td>\n      <td>2.262</td>\n      <td>1.0</td>\n    </tr>\n    <tr>\n      <th>Project</th>\n      <td>\\textbf{0.825}</td>\n      <td>-0.147</td>\n      <td>-0.053</td>\n      <td>1.660</td>\n      <td>0.9</td>\n      <td>1.800</td>\n      <td>0.8</td>\n    </tr>\n    <tr>\n      <th>Reduction</th>\n      <td>0.800</td>\n      <td>\\textbf{0.001}</td>\n      <td>\\textbf{-0.027}</td>\n      <td>5.712</td>\n      <td>1.0</td>\n      <td>3.275</td>\n      <td>1.0</td>\n    </tr>\n    <tr>\n      <th>SenSR</th>\n      <td>0.765</td>\n      <td>-0.074</td>\n      <td>-0.048</td>\n      <td>\\textbf{1.021}</td>\n      <td>\\textbf{0.0}</td>\n      <td>\\textbf{1.081}</td>\n      <td>\\textbf{0.0}</td>\n    </tr>\n  </tbody>\n</table>\n</div>"
     },
     "metadata": {},
     "execution_count": 6
    }
   ],
   "source": [
    "from itertools import product\n",
    "\n",
    "index = summary.T.index\n",
    "index_subset = [index[i] for i in [1, 3, 5, 7, 9, 10, 12]]\n",
    "summary_mean = summary[index_subset]\n",
    "new_index = [( '', 'bal-acc'),('', '$\\\\text{AOD}_{\\\\text{gen}}$'),\\\n",
    "    ('', '$\\\\text{AOD}_{\\\\text{race}}$'),\\\n",
    "     ('Entropy loss', '$T_n$'), ('Entropy loss', 'rejection prop'),\\\n",
    "          ('0-1 loss', '$T_n$'), ('0-1 loss', 'rejection prop')] \n",
    "summary_mean = summary_mean.astype('float32')\n",
    "\n",
    "for i, j in zip(index_subset, new_index):\n",
    "    if  i == ('reject-entropy-loss', 'mean') or i == ('reject-01-loss', 'mean'):\n",
    "        idx_best = (summary_mean[i]).idxmin()\n",
    "        summary_mean[j] = (summary_mean[i]).apply('{:.1f}'.format)\n",
    "        summary_mean.at[idx_best, j] = '\\\\textbf{' + summary_mean[j][idx_best] + '}'\n",
    "\n",
    "    elif i == ('bal_acc', 'mean'):\n",
    "        idx_best = (summary_mean[i]).idxmax()\n",
    "        summary_mean[j] = summary_mean[i].apply(\"{:.3f}\".format)\n",
    "        best_val = summary_mean[j][idx_best]\n",
    "        best_val = '\\\\textbf{' + best_val + '}'\n",
    "        summary_mean.at[idx_best, j] = best_val\n",
    "    elif i == ('lb-entropy-loss', 'mean') or i == ('lb-01-loss', 'mean'):\n",
    "        idx_best = (summary_mean[i]).idxmin()\n",
    "        summary_mean[j] = summary_mean[i].apply(\"{:.3f}\".format)\n",
    "        best_val = summary_mean[j][idx_best]\n",
    "        best_val = '\\\\textbf{' + best_val + '}'\n",
    "        summary_mean.at[idx_best, j] = best_val\n",
    "    else:\n",
    "        idx_best = (summary_mean[i]).abs().idxmin()\n",
    "        summary_mean[j] = summary_mean[i].apply(\"{:.3f}\".format)\n",
    "        best_val = summary_mean[j][idx_best]\n",
    "        best_val = '\\\\textbf{' + best_val + '}'\n",
    "        summary_mean.at[idx_best, j] = best_val\n",
    "summary_mean = summary_mean[new_index]\n",
    "rows = ['sensr', 'reduction', 'baseline', 'project']\n",
    "row_names = ['Baseline', 'Project', 'Reduction','SenSR']\n",
    "ind = dict()\n",
    "for i, expt in enumerate(row_names):\n",
    "    ind[i] = expt\n",
    "summary_mean = summary_mean.rename(index=ind)\n",
    "summary_mean"
   ]
  },
  {
   "cell_type": "code",
   "execution_count": 7,
   "metadata": {},
   "outputs": [
    {
     "output_type": "stream",
     "name": "stdout",
     "text": [
      "\\begin{tabular}{llllllll}\n\\toprule\n{} & \\multicolumn{2}{l}{Entropy loss} & \\multicolumn{2}{l}{0-1 loss} \\\\\n{} &         bal-acc & $\\text{AOD}_{\\text{gen}}$ & $\\text{AOD}_{\\text{race}}$ &           $T_n$ & rejection prop &           $T_n$ & rejection prop \\\\\n\\midrule\nBaseline  &           0.817 &                    -0.151 &                     -0.061 &           3.676 &            1.0 &           2.262 &            1.0 \\\\\nProject   &  \\textbf{0.825} &                    -0.147 &                     -0.053 &           1.660 &            0.9 &           1.800 &            0.8 \\\\\nReduction &           0.800 &            \\textbf{0.001} &            \\textbf{-0.027} &           5.712 &            1.0 &           3.275 &            1.0 \\\\\nSenSR     &           0.765 &                    -0.074 &                     -0.048 &  \\textbf{1.021} &   \\textbf{0.0} &  \\textbf{1.081} &   \\textbf{0.0} \\\\\n\\bottomrule\n\\end{tabular}\n\n"
     ]
    }
   ],
   "source": [
    "print(summary_mean.to_latex(escape=False, index=True))"
   ]
  },
  {
   "cell_type": "code",
   "execution_count": 8,
   "metadata": {},
   "outputs": [
    {
     "output_type": "execute_result",
     "data": {
      "text/plain": [
       "                                                 Baseline  \\\n",
       "             bal-acc                      0.817$\\pm$0.007   \n",
       "             $\\text{AOD}_{\\text{gen}}$   -0.151$\\pm$0.026   \n",
       "             $\\text{AOD}_{\\text{race}}$  -0.061$\\pm$0.015   \n",
       "Entropy loss $T_n$                        3.676$\\pm$2.164   \n",
       "             rejection prop                           1.0   \n",
       "0-1 loss     $T_n$                        2.262$\\pm$0.356   \n",
       "             rejection prop                           1.0   \n",
       "\n",
       "                                                          Project  \\\n",
       "             bal-acc                     \\textbf{0.825}$\\pm$0.003   \n",
       "             $\\text{AOD}_{\\text{gen}}$           -0.147$\\pm$0.015   \n",
       "             $\\text{AOD}_{\\text{race}}$          -0.053$\\pm$0.015   \n",
       "Entropy loss $T_n$                                1.660$\\pm$0.355   \n",
       "             rejection prop                                   0.9   \n",
       "0-1 loss     $T_n$                                1.800$\\pm$0.584   \n",
       "             rejection prop                                   0.8   \n",
       "\n",
       "                                                         Reduction  \\\n",
       "             bal-acc                               0.800$\\pm$0.005   \n",
       "             $\\text{AOD}_{\\text{gen}}$    \\textbf{0.001}$\\pm$0.021   \n",
       "             $\\text{AOD}_{\\text{race}}$  \\textbf{-0.027}$\\pm$0.013   \n",
       "Entropy loss $T_n$                                 5.712$\\pm$2.264   \n",
       "             rejection prop                                    1.0   \n",
       "0-1 loss     $T_n$                                 3.275$\\pm$0.343   \n",
       "             rejection prop                                    1.0   \n",
       "\n",
       "                                                            SenSR  \n",
       "             bal-acc                              0.765$\\pm$0.012  \n",
       "             $\\text{AOD}_{\\text{gen}}$           -0.074$\\pm$0.033  \n",
       "             $\\text{AOD}_{\\text{race}}$          -0.048$\\pm$0.008  \n",
       "Entropy loss $T_n$                       \\textbf{1.021}$\\pm$0.008  \n",
       "             rejection prop                          \\textbf{0.0}  \n",
       "0-1 loss     $T_n$                       \\textbf{1.081}$\\pm$0.041  \n",
       "             rejection prop                          \\textbf{0.0}  "
      ],
      "text/html": "<div>\n<style scoped>\n    .dataframe tbody tr th:only-of-type {\n        vertical-align: middle;\n    }\n\n    .dataframe tbody tr th {\n        vertical-align: top;\n    }\n\n    .dataframe thead th {\n        text-align: right;\n    }\n</style>\n<table border=\"1\" class=\"dataframe\">\n  <thead>\n    <tr style=\"text-align: right;\">\n      <th></th>\n      <th></th>\n      <th>Baseline</th>\n      <th>Project</th>\n      <th>Reduction</th>\n      <th>SenSR</th>\n    </tr>\n  </thead>\n  <tbody>\n    <tr>\n      <th rowspan=\"3\" valign=\"top\"></th>\n      <th>bal-acc</th>\n      <td>0.817$\\pm$0.007</td>\n      <td>\\textbf{0.825}$\\pm$0.003</td>\n      <td>0.800$\\pm$0.005</td>\n      <td>0.765$\\pm$0.012</td>\n    </tr>\n    <tr>\n      <th>$\\text{AOD}_{\\text{gen}}$</th>\n      <td>-0.151$\\pm$0.026</td>\n      <td>-0.147$\\pm$0.015</td>\n      <td>\\textbf{0.001}$\\pm$0.021</td>\n      <td>-0.074$\\pm$0.033</td>\n    </tr>\n    <tr>\n      <th>$\\text{AOD}_{\\text{race}}$</th>\n      <td>-0.061$\\pm$0.015</td>\n      <td>-0.053$\\pm$0.015</td>\n      <td>\\textbf{-0.027}$\\pm$0.013</td>\n      <td>-0.048$\\pm$0.008</td>\n    </tr>\n    <tr>\n      <th rowspan=\"2\" valign=\"top\">Entropy loss</th>\n      <th>$T_n$</th>\n      <td>3.676$\\pm$2.164</td>\n      <td>1.660$\\pm$0.355</td>\n      <td>5.712$\\pm$2.264</td>\n      <td>\\textbf{1.021}$\\pm$0.008</td>\n    </tr>\n    <tr>\n      <th>rejection prop</th>\n      <td>1.0</td>\n      <td>0.9</td>\n      <td>1.0</td>\n      <td>\\textbf{0.0}</td>\n    </tr>\n    <tr>\n      <th rowspan=\"2\" valign=\"top\">0-1 loss</th>\n      <th>$T_n$</th>\n      <td>2.262$\\pm$0.356</td>\n      <td>1.800$\\pm$0.584</td>\n      <td>3.275$\\pm$0.343</td>\n      <td>\\textbf{1.081}$\\pm$0.041</td>\n    </tr>\n    <tr>\n      <th>rejection prop</th>\n      <td>1.0</td>\n      <td>0.8</td>\n      <td>1.0</td>\n      <td>\\textbf{0.0}</td>\n    </tr>\n  </tbody>\n</table>\n</div>"
     },
     "metadata": {},
     "execution_count": 8
    }
   ],
   "source": [
    "for i, j in zip(index_subset, new_index):\n",
    "    k = i[0], 'std'\n",
    "    if  i == ('reject-entropy-loss', 'mean') or i == ('reject-01-loss', 'mean'):\n",
    "        idx_best = (summary[i]).idxmin()\n",
    "        summary[j] = (summary[i]).apply('{:.1f}'.format)\n",
    "        summary.at[idx_best, j] = '\\\\textbf{' + summary[j][idx_best] + '}'\n",
    "\n",
    "    elif i == ('bal_acc', 'mean'):\n",
    "        idx_best = (summary[i]).idxmax()\n",
    "        summary[j] = summary[i].apply(\"{:.3f}\".format)+ '$\\pm$' + summary[k].apply(\"{:.3f}\".format)\n",
    "        best_val = summary[j][idx_best].split('$\\pm$')\n",
    "        best_val = '$\\pm$'.join(['\\\\textbf{' + best_val[0] + '}', best_val[1]])\n",
    "        summary.at[idx_best, j] = best_val\n",
    "    elif i == ('lb-entropy-loss', 'mean') or i == ('lb-01-loss', 'mean'):\n",
    "        idx_best = (summary[i]).idxmin()\n",
    "        summary[j] = summary[i].apply(\"{:.3f}\".format)+ '$\\pm$' + summary[k].apply(\"{:.3f}\".format)\n",
    "        best_val = summary[j][idx_best].split('$\\pm$')\n",
    "        best_val = '$\\pm$'.join(['\\\\textbf{' + best_val[0] + '}', best_val[1]])\n",
    "        summary.at[idx_best, j] = best_val\n",
    "    else:\n",
    "        idx_best = (summary[i]).abs().idxmin()\n",
    "        summary[j] = summary[i].apply(\"{:.3f}\".format)+ '$\\pm$' + summary[k].apply(\"{:.3f}\".format)\n",
    "        best_val = summary[j][idx_best].split('$\\pm$')\n",
    "        best_val = '$\\pm$'.join(['\\\\textbf{' + best_val[0] + '}', best_val[1]])\n",
    "        summary.at[idx_best, j] = best_val\n",
    "\n",
    "summary = summary[new_index]\n",
    "rows = ['sensr', 'reduction', 'baseline', 'project']\n",
    "row_names = ['Baseline', 'Project', 'Reduction','SenSR']\n",
    "ind = dict()\n",
    "for i, expt in enumerate(row_names):\n",
    "    ind[i] = expt\n",
    "summary = summary.rename(index=ind)\n",
    "(summary.T)"
   ]
  },
  {
   "cell_type": "code",
   "execution_count": 9,
   "metadata": {},
   "outputs": [
    {
     "output_type": "stream",
     "name": "stdout",
     "text": [
      "\\begin{tabular}{llllll}\n\\toprule\n         &                &          Baseline &                   Project &                  Reduction &                     SenSR \\\\\n\\midrule\n{} & bal-acc &   0.817$\\pm$0.007 &  \\textbf{0.825}$\\pm$0.003 &            0.800$\\pm$0.005 &           0.765$\\pm$0.012 \\\\\n         & $\\text{AOD}_{\\text{gen}}$ &  -0.151$\\pm$0.026 &          -0.147$\\pm$0.015 &   \\textbf{0.001}$\\pm$0.021 &          -0.074$\\pm$0.033 \\\\\n         & $\\text{AOD}_{\\text{race}}$ &  -0.061$\\pm$0.015 &          -0.053$\\pm$0.015 &  \\textbf{-0.027}$\\pm$0.013 &          -0.048$\\pm$0.008 \\\\\nEntropy loss & $T_n$ &   3.676$\\pm$2.164 &           1.660$\\pm$0.355 &            5.712$\\pm$2.264 &  \\textbf{1.021}$\\pm$0.008 \\\\\n         & rejection prop &               1.0 &                       0.9 &                        1.0 &              \\textbf{0.0} \\\\\n0-1 loss & $T_n$ &   2.262$\\pm$0.356 &           1.800$\\pm$0.584 &            3.275$\\pm$0.343 &  \\textbf{1.081}$\\pm$0.041 \\\\\n         & rejection prop &               1.0 &                       0.8 &                        1.0 &              \\textbf{0.0} \\\\\n\\bottomrule\n\\end{tabular}\n\n"
     ]
    }
   ],
   "source": [
    "print(summary.T.to_latex(escape=False, index=True))"
   ]
  },
  {
   "cell_type": "code",
   "execution_count": null,
   "metadata": {},
   "outputs": [],
   "source": []
  }
 ],
 "metadata": {
  "kernelspec": {
   "display_name": "Python 3.7.6 64-bit",
   "language": "python",
   "name": "python37664bitd090249c0cf5439884290524b93fde75"
  },
  "language_info": {
   "codemirror_mode": {
    "name": "ipython",
    "version": 3
   },
   "file_extension": ".py",
   "mimetype": "text/x-python",
   "name": "python",
   "nbconvert_exporter": "python",
   "pygments_lexer": "ipython3",
   "version": "3.7.6-final"
  }
 },
 "nbformat": 4,
 "nbformat_minor": 2
}