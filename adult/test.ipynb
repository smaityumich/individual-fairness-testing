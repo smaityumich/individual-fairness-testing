{
 "metadata": {
  "language_info": {
   "codemirror_mode": {
    "name": "ipython",
    "version": 3
   },
   "file_extension": ".py",
   "mimetype": "text/x-python",
   "name": "python",
   "nbconvert_exporter": "python",
   "pygments_lexer": "ipython3",
   "version": "3.7.6-final"
  },
  "orig_nbformat": 2,
  "kernelspec": {
   "name": "python37664bitd090249c0cf5439884290524b93fde75",
   "display_name": "Python 3.7.6 64-bit"
  }
 },
 "nbformat": 4,
 "nbformat_minor": 2,
 "cells": [
  {
   "cell_type": "code",
   "execution_count": 3,
   "metadata": {},
   "outputs": [
    {
     "output_type": "stream",
     "name": "stdout",
     "text": [
      "Index(['expt', 'lr', 'step', 'seed-data', 'seed-model', 'mean', 'std',\n       'sample-size', 'lb'],\n      dtype='object')\n"
     ]
    }
   ],
   "source": [
    "import re\n",
    "import pandas as pd\n",
    "import numpy as np\n",
    "import matplotlib.pyplot plt\n",
    "with open('test.out', 'r') as f:\n",
    "    data = f.read()\n",
    "entries = re.split('\\n', data)[:-1]\n",
    "entries_dict = [eval(e) for e in entries]\n",
    "data = pd.DataFrame(entries_dict)\n",
    "data['lb'] = data['mean'] - 1.64 * data['std']/ np.sqrt(data['sample-size'])\n",
    "print(data.columns)"
   ]
  },
  {
   "cell_type": "code",
   "execution_count": 4,
   "metadata": {},
   "outputs": [],
   "source": [
    "summary = data.groupby(['lr', 'expt', 'step']).agg({'lb':['mean', 'std']})"
   ]
  },
  {
   "cell_type": "code",
   "execution_count": 5,
   "metadata": {},
   "outputs": [
    {
     "output_type": "execute_result",
     "data": {
      "text/plain": [
       "                            lb          \n",
       "                          mean       std\n",
       "lr     expt     step                    \n",
       "0.0005 baseline 10    1.014805  0.000636\n",
       "                20    1.024363  0.001172\n",
       "                40    1.034903  0.002108\n",
       "                80    1.043434  0.003880\n",
       "                160   1.052502  0.007537\n",
       "...                        ...       ...\n",
       "0.0050 sensr    20    1.008108  0.000781\n",
       "                40    1.008754  0.001053\n",
       "                80    1.010035  0.001728\n",
       "                160   1.012560  0.003214\n",
       "                320   1.017540  0.006334\n",
       "\n",
       "[72 rows x 2 columns]"
      ],
      "text/html": "<div>\n<style scoped>\n    .dataframe tbody tr th:only-of-type {\n        vertical-align: middle;\n    }\n\n    .dataframe tbody tr th {\n        vertical-align: top;\n    }\n\n    .dataframe thead tr th {\n        text-align: left;\n    }\n\n    .dataframe thead tr:last-of-type th {\n        text-align: right;\n    }\n</style>\n<table border=\"1\" class=\"dataframe\">\n  <thead>\n    <tr>\n      <th></th>\n      <th></th>\n      <th></th>\n      <th colspan=\"2\" halign=\"left\">lb</th>\n    </tr>\n    <tr>\n      <th></th>\n      <th></th>\n      <th></th>\n      <th>mean</th>\n      <th>std</th>\n    </tr>\n    <tr>\n      <th>lr</th>\n      <th>expt</th>\n      <th>step</th>\n      <th></th>\n      <th></th>\n    </tr>\n  </thead>\n  <tbody>\n    <tr>\n      <th rowspan=\"5\" valign=\"top\">0.0005</th>\n      <th rowspan=\"5\" valign=\"top\">baseline</th>\n      <th>10</th>\n      <td>1.014805</td>\n      <td>0.000636</td>\n    </tr>\n    <tr>\n      <th>20</th>\n      <td>1.024363</td>\n      <td>0.001172</td>\n    </tr>\n    <tr>\n      <th>40</th>\n      <td>1.034903</td>\n      <td>0.002108</td>\n    </tr>\n    <tr>\n      <th>80</th>\n      <td>1.043434</td>\n      <td>0.003880</td>\n    </tr>\n    <tr>\n      <th>160</th>\n      <td>1.052502</td>\n      <td>0.007537</td>\n    </tr>\n    <tr>\n      <th>...</th>\n      <th>...</th>\n      <th>...</th>\n      <td>...</td>\n      <td>...</td>\n    </tr>\n    <tr>\n      <th rowspan=\"5\" valign=\"top\">0.0050</th>\n      <th rowspan=\"5\" valign=\"top\">sensr</th>\n      <th>20</th>\n      <td>1.008108</td>\n      <td>0.000781</td>\n    </tr>\n    <tr>\n      <th>40</th>\n      <td>1.008754</td>\n      <td>0.001053</td>\n    </tr>\n    <tr>\n      <th>80</th>\n      <td>1.010035</td>\n      <td>0.001728</td>\n    </tr>\n    <tr>\n      <th>160</th>\n      <td>1.012560</td>\n      <td>0.003214</td>\n    </tr>\n    <tr>\n      <th>320</th>\n      <td>1.017540</td>\n      <td>0.006334</td>\n    </tr>\n  </tbody>\n</table>\n<p>72 rows × 2 columns</p>\n</div>"
     },
     "metadata": {},
     "execution_count": 5
    }
   ],
   "source": [
    "summary"
   ]
  },
  {
   "cell_type": "code",
   "execution_count": null,
   "metadata": {},
   "outputs": [],
   "source": []
  }
 ]
}