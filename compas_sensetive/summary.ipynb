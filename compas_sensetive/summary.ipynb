{
 "cells": [
  {
   "cell_type": "markdown",
   "metadata": {},
   "source": [
    "# Summary table for *COMPAS* data\n",
    "\n",
    "Here we extract the summary measures for *Adult* data for four classifiers: (1) baseline, (2) project, (3) reduction, and (4) SenSR.\n",
    "For each of the classifiers we perform gradient flow attack with step size $\\frac{65}{1000\\times i^{2/3}},$ where $i$ is the current step number. We perform 200 steps of attacks on each data points. \n",
    "\n",
    "First, we load the summary data for all experiments, and compile it in a panda dataframe. "
   ]
  },
  {
   "cell_type": "code",
   "execution_count": 77,
   "metadata": {
    "tags": []
   },
   "outputs": [],
   "source": [
    "import re\n",
    "import pandas as pd\n",
    "with open('g_summary3.out', 'r') as f:\n",
    "    data = f.read()\n",
    "entries = re.split('\\n', data)[:-1]"
   ]
  },
  {
   "cell_type": "code",
   "execution_count": 78,
   "metadata": {},
   "outputs": [],
   "source": [
    "entries_dict = []\n",
    "for e in entries:\n",
    "    try:\n",
    "        entries_dict.append(eval(e))\n",
    "    except:\n",
    "        continue\n",
    "data = pd.DataFrame(entries_dict)\n",
    "data['reject'] = data['pval'] < 0.05"
   ]
  },
  {
   "cell_type": "code",
   "execution_count": 79,
   "metadata": {
    "tags": []
   },
   "outputs": [
    {
     "output_type": "stream",
     "name": "stdout",
     "text": "('baseline',         algo            seed     lr  accuracy        lb  pval   bal_acc  \\\n7   baseline  (51668, 64395)  0.005  0.682765  1.849457   0.0  0.680608   \n10  baseline   (5192, 98047)  0.005  0.684659  1.919997   0.0  0.682843   \n17  baseline  (50057, 73349)  0.005  0.673295  2.064184   0.0  0.671552   \n20  baseline  (21440, 98448)  0.005  0.690341  1.921498   0.0  0.689772   \n26  baseline  (20609, 49100)  0.005  0.662879  2.253079   0.0  0.661266   \n28  baseline  (98539, 77708)  0.005  0.678030  1.717622   0.0  0.677028   \n41  baseline    (2367, 4534)  0.005  0.660985  1.687470   0.0  0.662044   \n45  baseline  (97561, 21758)  0.005  0.699811  2.072982   0.0  0.699386   \n\n    gap_rms_gen  mean_gap_gen  max_gap_gen   AOD-gen   EOD-gen   SPD-gen  \\\n7      0.208451      0.208451     0.208775  0.208451  0.208775  0.267464   \n10     0.284018      0.275974     0.343091  0.275974  0.343091  0.305556   \n17     0.213178      0.212599     0.228299  0.212599  0.228299  0.243473   \n20     0.273282      0.270220     0.311016  0.270220  0.311016  0.308418   \n26     0.211675      0.211234     0.224895  0.211234  0.224895  0.240263   \n28     0.222298      0.222052     0.232517  0.222052  0.211586  0.279762   \n41     0.149799      0.138274     0.195894  0.138274  0.080654  0.199877   \n45     0.205258      0.205117     0.212716  0.205117  0.212716  0.251740   \n\n    gap_rms_race  mean_gap_race  max_gap_race  AOD-race  EOD-race  SPD-race  \\\n7       0.273532       0.271824      0.302341  0.271824  0.302341  0.313979   \n10      0.302690       0.296249      0.358362  0.296249  0.358362  0.335578   \n17      0.264729       0.252887      0.331180  0.252887  0.331180  0.279447   \n20      0.288328       0.286594      0.318173  0.286594  0.318173  0.322289   \n26      0.212425       0.212179      0.222397  0.212179  0.222397  0.255406   \n28      0.184622       0.184411      0.193236  0.184411  0.193236  0.231083   \n41      0.256769       0.256375      0.270594  0.256375  0.242156  0.293938   \n45      0.225736       0.225590      0.233696  0.225590  0.233696  0.282457   \n\n    reject  \n7     True  \n10    True  \n17    True  \n20    True  \n26    True  \n28    True  \n41    True  \n45    True  )\n('project',        algo            seed     lr  accuracy        lb  pval   bal_acc  \\\n9   project  (98539, 77708)  0.005  0.647727  1.328840   0.0  0.648071   \n29  project   (7751, 43757)  0.005  0.641098  1.350888   0.0  0.639355   \n34  project  (50057, 73349)  0.005  0.643939  1.125755   1.0  0.642373   \n38  project   (5192, 98047)  0.005  0.635417  1.063754   1.0  0.632314   \n48  project  (97561, 21758)  0.005  0.682765  1.032405   1.0  0.681166   \n55  project  (31228, 36230)  0.005  0.647727  1.088960   1.0  0.645505   \n68  project  (51668, 64395)  0.005  0.645833  1.092550   1.0  0.643827   \n\n    gap_rms_gen  mean_gap_gen  max_gap_gen   AOD-gen   EOD-gen   SPD-gen  \\\n9      0.060474      0.057585     0.076053  0.057585  0.076053  0.101190   \n29     0.058545      0.049037     0.081020  0.049037  0.081020  0.070643   \n34     0.047318      0.047168     0.050926  0.003757  0.050926  0.024325   \n38     0.112483      0.081665     0.159016  0.081665  0.159016  0.097801   \n48     0.051998      0.048708     0.066910  0.048708  0.030506  0.097771   \n55     0.056029      0.049969     0.075313  0.025345  0.075313  0.038773   \n68     0.053372      0.046943     0.072338  0.046943  0.072338  0.089713   \n\n    gap_rms_race  mean_gap_race  max_gap_race  AOD-race  EOD-race  SPD-race  \\\n9       0.191641       0.191319      0.202428  0.191319  0.202428  0.229169   \n29      0.267241       0.254261      0.336535  0.254261  0.336535  0.281162   \n34      0.232304       0.227710      0.273683  0.227710  0.273683  0.251563   \n38      0.234885       0.225918      0.290198  0.225918  0.290198  0.252207   \n48      0.201287       0.201207      0.206890  0.201207  0.195523  0.254539   \n55      0.216146       0.210016      0.261129  0.210016  0.261129  0.243600   \n68      0.238657       0.237620      0.259844  0.237620  0.259844  0.271016   \n\n    reject  \n9     True  \n29    True  \n34   False  \n38   False  \n48   False  \n55   False  \n68   False  )\n('reduction',           algo   seed     lr  accuracy        lb  pval   bal_acc  gap_rms_gen  \\\n97   reduction  97561  0.005  0.683712  1.467983   0.0  0.678490     0.075723   \n107  reduction  31228  0.005  0.649621  1.506156   0.0  0.643276     0.052269   \n110  reduction  51668  0.005  0.657197  1.534751   0.0  0.650878     0.018115   \n111  reduction   2367  0.005  0.649621  1.536340   0.0  0.645285     0.102735   \n118  reduction  50057  0.005  0.658144  1.522544   0.0  0.651661     0.027399   \n121  reduction   5192  0.005  0.644886  1.522812   0.0  0.640590     0.103489   \n122  reduction  98539  0.005  0.669508  1.529954   0.0  0.665184     0.036514   \n131  reduction   7751  0.005  0.662879  1.541678   0.0  0.656915     0.032516   \n134  reduction  20609  0.005  0.642992  1.608967   0.0  0.636792     0.055428   \n139  reduction  21440  0.005  0.671402  1.500951   0.0  0.665857     0.066394   \n\n     mean_gap_gen  max_gap_gen   AOD-gen   EOD-gen   SPD-gen  gap_rms_race  \\\n97       0.057936     0.106695 -0.048758 -0.106695  0.009002      0.015691   \n107      0.049900     0.065459 -0.015559  0.034341 -0.002315      0.069593   \n110      0.017701     0.021549 -0.003848 -0.021549  0.053828      0.017032   \n111      0.082105     0.143856 -0.082105 -0.143856 -0.021355      0.034840   \n118      0.025924     0.034793  0.025924  0.034793  0.055223      0.058814   \n121      0.082545     0.144965  0.082545  0.144965  0.104167      0.146407   \n122      0.035072     0.045231 -0.035072 -0.045231  0.023280      0.034559   \n131      0.030328     0.042052 -0.030328 -0.042052  0.003018      0.098830   \n134      0.055367     0.057972 -0.055367 -0.052761 -0.027520      0.014972   \n139      0.053788     0.092711  0.053788  0.092711  0.088579      0.043039   \n\n     mean_gap_race  max_gap_race  AOD-race  EOD-race  SPD-race  reject  \n97        0.011477      0.022177  0.010700 -0.000776  0.068531    True  \n107       0.053028      0.098096  0.045068  0.098096  0.081437    True  \n110       0.016566      0.020523 -0.003957 -0.020523  0.040371    True  \n111       0.030955      0.046943  0.015987 -0.014968  0.054629    True  \n118       0.050999      0.080294  0.029295  0.080294  0.056971    True  \n121       0.134502      0.192332  0.134502  0.192332  0.165531    True  \n122       0.031818      0.045306 -0.013488  0.018329  0.031126    True  \n131       0.080726      0.137741  0.057015  0.137741  0.093497    True  \n134       0.011784      0.021020  0.011784  0.021020  0.052219    True  \n139       0.039870      0.056078  0.039870  0.056078  0.074862    True  )\n('sensr',       algo            seed     lr  accuracy        lb          pval   bal_acc  \\\n59   sensr   (5192, 98047)  0.005  0.638258  1.071673  1.000000e+00  0.635556   \n62   sensr  (50057, 73349)  0.005  0.635417  1.145606  1.000000e+00  0.632538   \n66   sensr  (98539, 77708)  0.005  0.642045  1.267650  1.757641e-08  0.641812   \n73   sensr  (21440, 98448)  0.005  0.656250  1.034085  1.000000e+00  0.654894   \n75   sensr  (20609, 49100)  0.005  0.617424  1.051535  1.000000e+00  0.612977   \n76   sensr  (31228, 36230)  0.005  0.654356  1.090061  1.000000e+00  0.653663   \n87   sensr   (7751, 43757)  0.005  0.642045  1.123205  1.000000e+00  0.640026   \n89   sensr  (97561, 21758)  0.005  0.686553  1.024393  1.000000e+00  0.686083   \n93   sensr    (2367, 4534)  0.005  0.625000  1.111096  1.000000e+00  0.623814   \n138  sensr  (51668, 64395)  0.005  0.648674  1.038242  1.000000e+00  0.646622   \n\n     gap_rms_gen  mean_gap_gen  max_gap_gen   AOD-gen   EOD-gen   SPD-gen  \\\n59      0.086540      0.070109     0.120843  0.070109  0.120843  0.093171   \n62      0.061126      0.060201     0.070790  0.010589  0.070790  0.026720   \n66      0.057191      0.053776     0.073242  0.053776  0.073242  0.095106   \n73      0.106370      0.080187     0.150077  0.080187  0.150077  0.105205   \n75      0.097276      0.079178     0.135688  0.079178  0.135688  0.091683   \n76      0.071987      0.057113     0.100933  0.043819  0.100933  0.057292   \n87      0.055727      0.048172     0.076189  0.048172  0.076189  0.070621   \n89      0.068093      0.064814     0.085690  0.064814  0.043939  0.115516   \n93      0.021991      0.021917     0.023725  0.021917  0.023725  0.058978   \n138     0.075711      0.057137     0.106811  0.057137  0.106811  0.094258   \n\n     gap_rms_race  mean_gap_race  max_gap_race  AOD-race  EOD-race  SPD-race  \\\n59       0.260275       0.249603      0.323368  0.249603  0.323368  0.275388   \n62       0.224590       0.220995      0.261018  0.220995  0.261018  0.243389   \n66       0.187660       0.187660      0.187815  0.187660  0.187505  0.225066   \n73       0.258579       0.256076      0.291962  0.256076  0.291962  0.283820   \n75       0.240705       0.240687      0.243631  0.240687  0.243631  0.269319   \n76       0.238209       0.232203      0.285353  0.232203  0.285353  0.267533   \n87       0.277231       0.259387      0.357241  0.259387  0.357241  0.284692   \n89       0.203838       0.203633      0.212778  0.203633  0.194488  0.258884   \n93       0.257787       0.256180      0.284925  0.256180  0.227434  0.285714   \n138      0.224191       0.223138      0.244838  0.223138  0.244838  0.257656   \n\n     reject  \n59    False  \n62    False  \n66     True  \n73    False  \n75    False  \n76    False  \n87    False  \n89    False  \n93    False  \n138   False  )\n"
    }
   ],
   "source": [
    "lr = 5e-3\n",
    "data_lr = data.loc[data['lr'] == lr]\n",
    "data_lr = data_lr.rename(columns= {'average_odds_difference_gen': 'AOD-gen', 'average_odds_difference_race': 'AOD-race', 'statistical_parity_difference_gen': 'SPD-gen', 'statistical_parity_difference_race': 'SPD-race', 'equal_opportunity_difference_race': 'EOD-race', 'equal_opportunity_difference_gen': 'EOD-gen'})\n",
    "for x in data_lr.groupby(['algo']):\n",
    "    print(x)"
   ]
  },
  {
   "cell_type": "markdown",
   "metadata": {},
   "source": [
    "We only extract the following measures: balanced accuracy, average odds difference for gender and race and lower bound and proportion of times the test being rejected. "
   ]
  },
  {
   "cell_type": "code",
   "execution_count": 70,
   "metadata": {},
   "outputs": [],
   "source": [
    "measure = ['bal_acc', 'AOD-gen', 'AOD-race', 'lb', 'reject']\n",
    "agg_dict = dict()\n",
    "for key in measure:\n",
    "    agg_dict[key] = ['mean', 'std']\n",
    "result = data_lr.groupby(['algo'], as_index=False).agg(agg_dict)"
   ]
  },
  {
   "cell_type": "code",
   "execution_count": 71,
   "metadata": {},
   "outputs": [],
   "source": [
    "rows = ['sensr', 'reduction', 'baseline', 'project']\n",
    "row_names = ['Baseline', 'Project', 'Reduction','SenSR']\n",
    "colnames=['Balanced Acc', '$\\\\text{AOD}_{\\\\text{gen}}$', '$\\\\text{AOD}_{\\\\text{race}}$', '$T_n$', 'Rejection Prop']\n"
   ]
  },
  {
   "cell_type": "code",
   "execution_count": 72,
   "metadata": {},
   "outputs": [],
   "source": [
    "for i, c in enumerate(measure):\n",
    "    if c == 'reject':\n",
    "        idx_best = (1-result[c]['mean']).idxmin()\n",
    "        result[colnames[i]] = (result[c]['mean']).apply(\"{:.1f}\".format)\n",
    "        #result.at[idx_best, colnames[i]] = '\\\\textbf{' + result[colnames[i]][idx_best] + '}'\n",
    "        \n",
    "    elif c == 'bal_acc':\n",
    "        idx_best = (result[c]['mean']).idxmax()\n",
    "        result[colnames[i]] = result[c]['mean'].apply(\"{:.3f}\".format)+ '$\\pm$' + result[c]['std'].apply(\"{:.3f}\".format)\n",
    "        best_val = result[colnames[i]][idx_best].split('$\\pm$')\n",
    "        best_val = '$\\pm$'.join(['\\\\textbf{' + best_val[0] + '}', best_val[1]])\n",
    "        #result.at[idx_best, colnames[i]] = best_val\n",
    "    elif c == 'lb':\n",
    "        idx_best = (result[c]['mean']).idxmin()\n",
    "        result[colnames[i]] = result[c]['mean'].apply(\"{:.3f}\".format)+ '$\\pm$' + result[c]['std'].apply(\"{:.3f}\".format)\n",
    "        best_val = result[colnames[i]][idx_best].split('$\\pm$')\n",
    "        best_val = '$\\pm$'.join(['\\\\textbf{' + best_val[0] + '}', best_val[1]])\n",
    "        #result.at[idx_best, colnames[i]] = best_val\n",
    "    else:\n",
    "        idx_best = (result[c]['mean']).abs().idxmin()\n",
    "        result[colnames[i]] = result[c]['mean'].apply(\"{:.3f}\".format)+ '$\\pm$' + result[c]['std'].apply(\"{:.3f}\".format)\n",
    "        best_val = result[colnames[i]][idx_best].split('$\\pm$')\n",
    "        best_val = '$\\pm$'.join(['\\\\textbf{' + best_val[0] + '}', best_val[1]])\n",
    "        #result.at[idx_best, colnames[i]] = best_val\n"
   ]
  },
  {
   "cell_type": "code",
   "execution_count": 73,
   "metadata": {},
   "outputs": [
    {
     "output_type": "execute_result",
     "data": {
      "text/plain": "              Balanced Acc $\\text{AOD}_{\\text{gen}}$  \\\n                                                       \nBaseline   0.677$\\pm$0.013           0.222$\\pm$0.042   \nProject    0.643$\\pm$0.006           0.053$\\pm$0.018   \nReduction  0.653$\\pm$0.013          -0.011$\\pm$0.051   \nSenSR      0.643$\\pm$0.020           0.053$\\pm$0.023   \n\n          $\\text{AOD}_{\\text{race}}$            $T_n$ Rejection Prop  \n                                                                      \nBaseline             0.249$\\pm$0.036  1.492$\\pm$0.089            1.0  \nProject              0.221$\\pm$0.023  1.093$\\pm$0.077            0.0  \nReduction            0.033$\\pm$0.042  1.281$\\pm$0.018            1.0  \nSenSR                0.233$\\pm$0.024  1.057$\\pm$0.038            0.0  ",
      "text/html": "<div>\n<style scoped>\n    .dataframe tbody tr th:only-of-type {\n        vertical-align: middle;\n    }\n\n    .dataframe tbody tr th {\n        vertical-align: top;\n    }\n\n    .dataframe thead tr th {\n        text-align: left;\n    }\n</style>\n<table border=\"1\" class=\"dataframe\">\n  <thead>\n    <tr>\n      <th></th>\n      <th>Balanced Acc</th>\n      <th>$\\text{AOD}_{\\text{gen}}$</th>\n      <th>$\\text{AOD}_{\\text{race}}$</th>\n      <th>$T_n$</th>\n      <th>Rejection Prop</th>\n    </tr>\n    <tr>\n      <th></th>\n      <th></th>\n      <th></th>\n      <th></th>\n      <th></th>\n      <th></th>\n    </tr>\n  </thead>\n  <tbody>\n    <tr>\n      <th>Baseline</th>\n      <td>0.677$\\pm$0.013</td>\n      <td>0.222$\\pm$0.042</td>\n      <td>0.249$\\pm$0.036</td>\n      <td>1.492$\\pm$0.089</td>\n      <td>1.0</td>\n    </tr>\n    <tr>\n      <th>Project</th>\n      <td>0.643$\\pm$0.006</td>\n      <td>0.053$\\pm$0.018</td>\n      <td>0.221$\\pm$0.023</td>\n      <td>1.093$\\pm$0.077</td>\n      <td>0.0</td>\n    </tr>\n    <tr>\n      <th>Reduction</th>\n      <td>0.653$\\pm$0.013</td>\n      <td>-0.011$\\pm$0.051</td>\n      <td>0.033$\\pm$0.042</td>\n      <td>1.281$\\pm$0.018</td>\n      <td>1.0</td>\n    </tr>\n    <tr>\n      <th>SenSR</th>\n      <td>0.643$\\pm$0.020</td>\n      <td>0.053$\\pm$0.023</td>\n      <td>0.233$\\pm$0.024</td>\n      <td>1.057$\\pm$0.038</td>\n      <td>0.0</td>\n    </tr>\n  </tbody>\n</table>\n</div>"
     },
     "metadata": {},
     "execution_count": 73
    }
   ],
   "source": [
    "ind = dict()\n",
    "for i, expt in enumerate(row_names):\n",
    "    ind[i] = expt\n",
    "    res = result[colnames].rename(index=ind)\n",
    "res"
   ]
  },
  {
   "cell_type": "code",
   "execution_count": 31,
   "metadata": {
    "tags": []
   },
   "outputs": [
    {
     "output_type": "stream",
     "name": "stdout",
     "text": "\\begin{tabular}{lccccc}\n\\toprule\n{} &     Balanced Acc & $\\text{AOD}_{\\text{gen}}$ & $\\text{AOD}_{\\text{race}}$ &            $T_n$ & Rejection Prop \\\\\n{} \\\\\n\\midrule\nBaseline  &  0.677$\\pm$0.012 &           0.228$\\pm$0.029 &            0.252$\\pm$0.035 &  1.992$\\pm$0.149 &            1.0 \\\\\nProject   &  0.645$\\pm$0.017 &           0.047$\\pm$0.023 &            0.208$\\pm$0.024 &  1.253$\\pm$0.420 &            0.2 \\\\\nReduction &  0.655$\\pm$0.013 &          -0.004$\\pm$0.045 &            0.028$\\pm$0.047 &  1.534$\\pm$0.043 &            1.0 \\\\\nSenSR     &  0.642$\\pm$0.020 &           0.060$\\pm$0.023 &            0.225$\\pm$0.028 &  1.247$\\pm$0.489 &            0.2 \\\\\n\\bottomrule\n\\end{tabular}\n\n"
    }
   ],
   "source": [
    "print(res.to_latex(escape=False, column_format='l' + 'c'*len(colnames)))"
   ]
  },
  {
   "cell_type": "code",
   "execution_count": 51,
   "metadata": {},
   "outputs": [
    {
     "output_type": "execute_result",
     "data": {
      "text/plain": "array([[98539, 77708],\n       [ 5192, 98047],\n       [50057, 73349],\n       [21440, 98448],\n       [20609, 49100],\n       [ 7751, 43757],\n       [31228, 36230],\n       [97561, 21758],\n       [   23,    45],\n       [51668, 64395]])"
     },
     "metadata": {},
     "execution_count": 51
    }
   ],
   "source": [
    "import numpy as np\n",
    "a = np.load('seeds.npy')\n",
    "a"
   ]
  },
  {
   "cell_type": "code",
   "execution_count": 52,
   "metadata": {},
   "outputs": [],
   "source": [
    "a[0, 0], a[0, 1] = 73467, 52346"
   ]
  },
  {
   "cell_type": "code",
   "execution_count": 53,
   "metadata": {},
   "outputs": [
    {
     "output_type": "execute_result",
     "data": {
      "text/plain": "array([[98539, 77708],\n       [ 5192, 98047],\n       [50057, 73349],\n       [21440, 98448],\n       [20609, 49100],\n       [ 7751, 43757],\n       [31228, 36230],\n       [97561, 21758],\n       [ 2367,  4534],\n       [51668, 64395]])"
     },
     "metadata": {},
     "execution_count": 53
    }
   ],
   "source": [
    "a"
   ]
  },
  {
   "cell_type": "code",
   "execution_count": 54,
   "metadata": {},
   "outputs": [],
   "source": [
    "np.save('seeds.npy', a)"
   ]
  },
  {
   "cell_type": "code",
   "execution_count": null,
   "metadata": {},
   "outputs": [],
   "source": []
  }
 ],
 "metadata": {
  "kernelspec": {
   "display_name": "Python 3.7.4 64-bit",
   "language": "python",
   "name": "python37464bit48aa32fa6dba4f1bbd692e320b15fd93"
  },
  "language_info": {
   "codemirror_mode": {
    "name": "ipython",
    "version": 3
   },
   "file_extension": ".py",
   "mimetype": "text/x-python",
   "name": "python",
   "nbconvert_exporter": "python",
   "pygments_lexer": "ipython3",
   "version": "3.7.4-final"
  }
 },
 "nbformat": 4,
 "nbformat_minor": 2
}