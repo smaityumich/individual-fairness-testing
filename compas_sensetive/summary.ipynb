{
 "cells": [
  {
   "cell_type": "markdown",
   "metadata": {},
   "source": [
    "# Summary table for *COMPAS* data\n",
    "\n",
    "Here we extract the summary measures for *Adult* data for four classifiers: (1) baseline, (2) project, (3) reduction, and (4) SenSR.\n",
    "For each of the classifiers we perform gradient flow attack with step size $\\frac{65}{1000\\times i^{2/3}},$ where $i$ is the current step number. We perform 200 steps of attacks on each data points. \n",
    "\n",
    "First, we load the summary data for all experiments, and compile it in a panda dataframe. "
   ]
  },
  {
   "cell_type": "code",
   "execution_count": 183,
   "metadata": {
    "tags": []
   },
   "outputs": [],
   "source": [
    "import re\n",
    "import pandas as pd\n",
    "with open('all_summary.out', 'r') as f:\n",
    "    data = f.read()\n",
    "entries = re.split('\\n', data)[:-1]"
   ]
  },
  {
   "cell_type": "code",
   "execution_count": 184,
   "metadata": {},
   "outputs": [],
   "source": [
    "entries_dict = []\n",
    "for e in entries:\n",
    "    try:\n",
    "        entries_dict.append(eval(e))\n",
    "    except:\n",
    "        continue\n",
    "data = pd.DataFrame(entries_dict)\n",
    "data['reject'] = data['pval'] < 0.05"
   ]
  },
  {
   "cell_type": "code",
   "execution_count": 185,
   "metadata": {
    "tags": []
   },
   "outputs": [
    {
     "output_type": "stream",
     "name": "stdout",
     "text": "('baseline',         algo            seed     lr  accuracy        lb  pval   bal_acc  \\\n2   baseline  (50057, 73349)  0.005  0.673295  2.562466   0.0  0.671552   \n9   baseline     (767, 1876)  0.005  0.665720  1.991305   0.0  0.665400   \n15  baseline    (2367, 4534)  0.005  0.660985  1.996409   0.0  0.662044   \n27  baseline  (21440, 98448)  0.005  0.690341  2.352636   0.0  0.689772   \n32  baseline  (20609, 49100)  0.005  0.662879  2.812803   0.0  0.661266   \n37  baseline   (7751, 43757)  0.005  0.667614  2.441824   0.0  0.666520   \n38  baseline  (31228, 36230)  0.005  0.668561  2.543041   0.0  0.666856   \n46  baseline  (97561, 21758)  0.005  0.699811  2.589077   0.0  0.699386   \n48  baseline  (51668, 64395)  0.005  0.682765  2.235409   0.0  0.680608   \n53  baseline   (5192, 98047)  0.005  0.684659  2.320282   0.0  0.682843   \n\n    gap_rms_gen  mean_gap_gen  max_gap_gen   AOD-gen   EOD-gen   SPD-gen  \\\n2      0.213178      0.212599     0.228299  0.212599  0.228299  0.243473   \n9      0.199339      0.199303     0.203078  0.199303  0.195529  0.250583   \n15     0.149799      0.138274     0.195894  0.138274  0.080654  0.199877   \n27     0.273282      0.270220     0.311016  0.270220  0.311016  0.308418   \n32     0.211675      0.211234     0.224895  0.211234  0.224895  0.240263   \n37     0.260014      0.258266     0.288372  0.258266  0.228159  0.294957   \n38     0.215039      0.201406     0.276755  0.201406  0.276755  0.213542   \n46     0.205258      0.205117     0.212716  0.205117  0.212716  0.251740   \n48     0.208451      0.208451     0.208775  0.208451  0.208775  0.267464   \n53     0.284018      0.275974     0.343091  0.275974  0.343091  0.305556   \n\n    gap_rms_race  mean_gap_race  max_gap_race  AOD-race  EOD-race  SPD-race  \\\n2       0.264729       0.252887      0.331180  0.252887  0.331180  0.279447   \n9       0.279953       0.270432      0.342821  0.270432  0.342821  0.288827   \n15      0.256769       0.256375      0.270594  0.256375  0.242156  0.293938   \n27      0.288328       0.286594      0.318173  0.286594  0.318173  0.322289   \n32      0.212425       0.212179      0.222397  0.212179  0.222397  0.255406   \n37      0.257715       0.254265      0.296294  0.254265  0.296294  0.293558   \n38      0.275211       0.271706      0.315492  0.271706  0.315492  0.311211   \n46      0.225736       0.225590      0.233696  0.225590  0.233696  0.282457   \n48      0.273532       0.271824      0.302341  0.271824  0.302341  0.313979   \n53      0.302690       0.296249      0.358362  0.296249  0.358362  0.335578   \n\n    reject  \n2     True  \n9     True  \n15    True  \n27    True  \n32    True  \n37    True  \n38    True  \n46    True  \n48    True  \n53    True  )\n('project',         algo            seed     lr  accuracy        lb  pval   bal_acc  \\\n79   project   (5192, 98047)  0.005  0.635417  1.083500   1.0  0.632314   \n85   project     (767, 1876)  0.005  0.619318  1.121847   1.0  0.618001   \n92   project  (20609, 49100)  0.005  0.625947  1.075920   1.0  0.621808   \n98   project  (50057, 73349)  0.005  0.643939  1.168245   1.0  0.642373   \n100  project  (21440, 98448)  0.005  0.650568  1.036815   1.0  0.646514   \n103  project   (7751, 43757)  0.005  0.641098  1.468790   0.0  0.639355   \n162  project  (97561, 21758)  0.005  0.682765  1.039943   1.0  0.681166   \n167  project  (31228, 36230)  0.005  0.647727  1.116761   1.0  0.645505   \n168  project    (2367, 4534)  0.005  0.635417  1.377440   0.0  0.635327   \n181  project  (51668, 64395)  0.005  0.645833  1.123257   1.0  0.643827   \n\n     gap_rms_gen  mean_gap_gen  max_gap_gen   AOD-gen   EOD-gen   SPD-gen  \\\n79      0.112483      0.081665     0.159016  0.081665  0.159016  0.097801   \n85      0.016351      0.014738     0.021820 -0.007081  0.007657  0.027649   \n92      0.098338      0.073525     0.138828  0.073525  0.138828  0.086316   \n98      0.047318      0.047168     0.050926  0.003757  0.050926  0.024325   \n100     0.063155      0.056029     0.085173  0.056029  0.085173  0.087777   \n103     0.058545      0.049037     0.081020  0.049037  0.081020  0.070643   \n162     0.051998      0.048708     0.066910  0.048708  0.030506  0.097771   \n167     0.056029      0.049969     0.075313  0.025345  0.075313  0.038773   \n168     0.015765      0.015035     0.019776  0.015035  0.010294  0.057322   \n181     0.053372      0.046943     0.072338  0.046943  0.072338  0.089713   \n\n     gap_rms_race  mean_gap_race  max_gap_race  AOD-race  EOD-race  SPD-race  \\\n79       0.234885       0.225918      0.290198  0.225918  0.290198  0.252207   \n85       0.219841       0.212928      0.267624  0.212928  0.267624  0.225653   \n92       0.226571       0.226550      0.229606  0.226550  0.229606  0.258183   \n98       0.232304       0.227710      0.273683  0.227710  0.273683  0.251563   \n100      0.205745       0.205193      0.220253  0.205193  0.220253  0.233983   \n103      0.267241       0.254261      0.336535  0.254261  0.336535  0.281162   \n162      0.201287       0.201207      0.206890  0.201207  0.195523  0.254539   \n167      0.216146       0.210016      0.261129  0.210016  0.261129  0.243600   \n168      0.267005       0.266398      0.284387  0.266398  0.248410  0.297580   \n181      0.238657       0.237620      0.259844  0.237620  0.259844  0.271016   \n\n     reject  \n79    False  \n85    False  \n92    False  \n98    False  \n100   False  \n103    True  \n162   False  \n167   False  \n168    True  \n181   False  )\n('reduction',           algo   seed     lr  accuracy        lb  pval   bal_acc  gap_rms_gen  \\\n62   reduction  50057  0.005  0.658144  1.769102   0.0  0.651661     0.027399   \n65   reduction   5192  0.005  0.644886  1.769153   0.0  0.640590     0.103489   \n110  reduction  21440  0.005  0.671402  1.735269   0.0  0.665857     0.066394   \n115  reduction    767  0.005  0.657197  1.647408   0.0  0.652998     0.070523   \n126  reduction  51668  0.005  0.657197  1.788463   0.0  0.650878     0.018115   \n135  reduction   2367  0.005  0.649621  1.790225   0.0  0.645285     0.102735   \n138  reduction  20609  0.005  0.642992  1.904201   0.0  0.636792     0.055428   \n140  reduction   7751  0.005  0.662879  1.798286   0.0  0.656915     0.032516   \n146  reduction  31228  0.005  0.649621  1.743122   0.0  0.643276     0.052269   \n156  reduction  97561  0.005  0.683712  1.683754   0.0  0.678490     0.075723   \n\n     mean_gap_gen  max_gap_gen   AOD-gen   EOD-gen   SPD-gen  gap_rms_race  \\\n62       0.025924     0.034793  0.025924  0.034793  0.055223      0.058814   \n65       0.082545     0.144965  0.082545  0.144965  0.104167      0.146407   \n110      0.053788     0.092711  0.053788  0.092711  0.088579      0.043039   \n115      0.070474     0.073081 -0.070474 -0.073081 -0.018902      0.066161   \n126      0.017701     0.021549 -0.003848 -0.021549  0.053828      0.017032   \n135      0.082105     0.143856 -0.082105 -0.143856 -0.021355      0.034840   \n138      0.055367     0.057972 -0.055367 -0.052761 -0.027520      0.014972   \n140      0.030328     0.042052 -0.030328 -0.042052  0.003018      0.098830   \n146      0.049900     0.065459 -0.015559  0.034341 -0.002315      0.069593   \n156      0.057936     0.106695 -0.048758 -0.106695  0.009002      0.015691   \n\n     mean_gap_race  max_gap_race  AOD-race  EOD-race  SPD-race  reject  \n62        0.050999      0.080294  0.029295  0.080294  0.056971    True  \n65        0.134502      0.192332  0.134502  0.192332  0.165531    True  \n110       0.039870      0.056078  0.039870  0.056078  0.074862    True  \n115       0.058870      0.089062  0.030192  0.089062  0.049304    True  \n126       0.016566      0.020523 -0.003957 -0.020523  0.040371    True  \n135       0.030955      0.046943  0.015987 -0.014968  0.054629    True  \n138       0.011784      0.021020  0.011784  0.021020  0.052219    True  \n140       0.080726      0.137741  0.057015  0.137741  0.093497    True  \n146       0.053028      0.098096  0.045068  0.098096  0.081437    True  \n156       0.011477      0.022177  0.010700 -0.000776  0.068531    True  )\n('sensr',       algo            seed     lr  accuracy        lb  pval   bal_acc  \\\n86   sensr  (51668, 64395)  0.005  0.648674  1.049126   1.0  0.646622   \n185  sensr     (767, 1876)  0.005  0.613636  1.051120   1.0  0.611854   \n188  sensr  (50057, 73349)  0.005  0.635417  1.198938   1.0  0.632538   \n193  sensr  (21440, 98448)  0.005  0.656250  1.042529   1.0  0.654894   \n207  sensr   (5192, 98047)  0.005  0.638258  1.094224   1.0  0.635556   \n211  sensr  (97561, 21758)  0.005  0.686553  1.030613   1.0  0.686083   \n218  sensr    (2367, 4534)  0.005  0.625000  1.150696   1.0  0.623814   \n223  sensr   (7751, 43757)  0.005  0.642045  1.180470   1.0  0.640026   \n226  sensr  (20609, 49100)  0.005  0.617424  1.066877   1.0  0.612977   \n229  sensr  (31228, 36230)  0.005  0.654356  1.117575   1.0  0.653663   \n\n     gap_rms_gen  mean_gap_gen  max_gap_gen   AOD-gen   EOD-gen   SPD-gen  \\\n86      0.075711      0.057137     0.106811  0.057137  0.106811  0.094258   \n185     0.012150      0.011790     0.014727 -0.011790 -0.008852  0.024008   \n188     0.061126      0.060201     0.070790  0.010589  0.070790  0.026720   \n193     0.106370      0.080187     0.150077  0.080187  0.150077  0.105205   \n207     0.086540      0.070109     0.120843  0.070109  0.120843  0.093171   \n211     0.068093      0.064814     0.085690  0.064814  0.043939  0.115516   \n218     0.021991      0.021917     0.023725  0.021917  0.023725  0.058978   \n223     0.055727      0.048172     0.076189  0.048172  0.076189  0.070621   \n226     0.097276      0.079178     0.135688  0.079178  0.135688  0.091683   \n229     0.071987      0.057113     0.100933  0.043819  0.100933  0.057292   \n\n     gap_rms_race  mean_gap_race  max_gap_race  AOD-race  EOD-race  SPD-race  \\\n86       0.224191       0.223138      0.244838  0.223138  0.244838  0.257656   \n185      0.231954       0.227791      0.271540  0.227791  0.271540  0.240416   \n188      0.224590       0.220995      0.261018  0.220995  0.261018  0.243389   \n193      0.258579       0.256076      0.291962  0.256076  0.291962  0.283820   \n207      0.260275       0.249603      0.323368  0.249603  0.323368  0.275388   \n211      0.203838       0.203633      0.212778  0.203633  0.194488  0.258884   \n218      0.257787       0.256180      0.284925  0.256180  0.227434  0.285714   \n223      0.277231       0.259387      0.357241  0.259387  0.357241  0.284692   \n226      0.240705       0.240687      0.243631  0.240687  0.243631  0.269319   \n229      0.238209       0.232203      0.285353  0.232203  0.285353  0.267533   \n\n     reject  \n86    False  \n185   False  \n188   False  \n193   False  \n207   False  \n211   False  \n218   False  \n223   False  \n226   False  \n229   False  )\n"
    }
   ],
   "source": [
    "lr = 5e-3\n",
    "data_lr = data.loc[data['lr'] == lr]\n",
    "data_lr = data_lr.rename(columns= {'average_odds_difference_gen': 'AOD-gen', 'average_odds_difference_race': 'AOD-race', 'statistical_parity_difference_gen': 'SPD-gen', 'statistical_parity_difference_race': 'SPD-race', 'equal_opportunity_difference_race': 'EOD-race', 'equal_opportunity_difference_gen': 'EOD-gen'})\n",
    "for x in data_lr.groupby(['algo']):\n",
    "    print(x)"
   ]
  },
  {
   "cell_type": "markdown",
   "metadata": {},
   "source": [
    "We only extract the following measures: balanced accuracy, average odds difference for gender and race and lower bound and proportion of times the test being rejected. "
   ]
  },
  {
   "cell_type": "code",
   "execution_count": 186,
   "metadata": {},
   "outputs": [],
   "source": [
    "measure = ['bal_acc', 'AOD-gen', 'AOD-race', 'lb', 'reject']\n",
    "agg_dict = dict()\n",
    "for key in measure:\n",
    "    agg_dict[key] = ['mean', 'std']\n",
    "result = data_lr.groupby(['algo'], as_index=False).agg(agg_dict)"
   ]
  },
  {
   "cell_type": "code",
   "execution_count": 187,
   "metadata": {},
   "outputs": [],
   "source": [
    "rows = ['sensr', 'reduction', 'baseline', 'project']\n",
    "row_names = ['Baseline', 'Project', 'Reduction','SenSR']\n",
    "colnames=['Balanced Acc', '$\\\\text{AOD}_{\\\\text{gen}}$', '$\\\\text{AOD}_{\\\\text{race}}$', '$T_n$', 'Rejection Prop']\n"
   ]
  },
  {
   "cell_type": "code",
   "execution_count": 188,
   "metadata": {},
   "outputs": [],
   "source": [
    "for i, c in enumerate(measure):\n",
    "    if c == 'reject':\n",
    "        idx_best = (1-result[c]['mean']).idxmin()\n",
    "        result[colnames[i]] = (result[c]['mean']).apply(\"{:.1f}\".format)\n",
    "        #result.at[idx_best, colnames[i]] = '\\\\textbf{' + result[colnames[i]][idx_best] + '}'\n",
    "        \n",
    "    elif c == 'bal_acc':\n",
    "        idx_best = (result[c]['mean']).idxmax()\n",
    "        result[colnames[i]] = result[c]['mean'].apply(\"{:.3f}\".format)+ '$\\pm$' + result[c]['std'].apply(\"{:.3f}\".format)\n",
    "        best_val = result[colnames[i]][idx_best].split('$\\pm$')\n",
    "        best_val = '$\\pm$'.join(['\\\\textbf{' + best_val[0] + '}', best_val[1]])\n",
    "        #result.at[idx_best, colnames[i]] = best_val\n",
    "    elif c == 'lb':\n",
    "        idx_best = (result[c]['mean']).idxmin()\n",
    "        result[colnames[i]] = result[c]['mean'].apply(\"{:.3f}\".format)+ '$\\pm$' + result[c]['std'].apply(\"{:.3f}\".format)\n",
    "        best_val = result[colnames[i]][idx_best].split('$\\pm$')\n",
    "        best_val = '$\\pm$'.join(['\\\\textbf{' + best_val[0] + '}', best_val[1]])\n",
    "        #result.at[idx_best, colnames[i]] = best_val\n",
    "    else:\n",
    "        idx_best = (result[c]['mean']).abs().idxmin()\n",
    "        result[colnames[i]] = result[c]['mean'].apply(\"{:.3f}\".format)+ '$\\pm$' + result[c]['std'].apply(\"{:.3f}\".format)\n",
    "        best_val = result[colnames[i]][idx_best].split('$\\pm$')\n",
    "        best_val = '$\\pm$'.join(['\\\\textbf{' + best_val[0] + '}', best_val[1]])\n",
    "        #result.at[idx_best, colnames[i]] = best_val\n"
   ]
  },
  {
   "cell_type": "code",
   "execution_count": 189,
   "metadata": {},
   "outputs": [
    {
     "output_type": "execute_result",
     "data": {
      "text/plain": "              Balanced Acc $\\text{AOD}_{\\text{gen}}$  \\\n                                                       \nBaseline   0.675$\\pm$0.013           0.218$\\pm$0.041   \nProject    0.641$\\pm$0.017           0.039$\\pm$0.029   \nReduction  0.652$\\pm$0.012          -0.014$\\pm$0.054   \nSenSR      0.640$\\pm$0.022           0.046$\\pm$0.031   \n\n          $\\text{AOD}_{\\text{race}}$            $T_n$ Rejection Prop  \n                                                                      \nBaseline             0.260$\\pm$0.026  2.385$\\pm$0.262            1.0  \nProject              0.227$\\pm$0.021  1.161$\\pm$0.145            0.2  \nReduction            0.037$\\pm$0.039  1.763$\\pm$0.069            1.0  \nSenSR                0.237$\\pm$0.018  1.098$\\pm$0.061            0.0  ",
      "text/html": "<div>\n<style scoped>\n    .dataframe tbody tr th:only-of-type {\n        vertical-align: middle;\n    }\n\n    .dataframe tbody tr th {\n        vertical-align: top;\n    }\n\n    .dataframe thead tr th {\n        text-align: left;\n    }\n</style>\n<table border=\"1\" class=\"dataframe\">\n  <thead>\n    <tr>\n      <th></th>\n      <th>Balanced Acc</th>\n      <th>$\\text{AOD}_{\\text{gen}}$</th>\n      <th>$\\text{AOD}_{\\text{race}}$</th>\n      <th>$T_n$</th>\n      <th>Rejection Prop</th>\n    </tr>\n    <tr>\n      <th></th>\n      <th></th>\n      <th></th>\n      <th></th>\n      <th></th>\n      <th></th>\n    </tr>\n  </thead>\n  <tbody>\n    <tr>\n      <th>Baseline</th>\n      <td>0.675$\\pm$0.013</td>\n      <td>0.218$\\pm$0.041</td>\n      <td>0.260$\\pm$0.026</td>\n      <td>2.385$\\pm$0.262</td>\n      <td>1.0</td>\n    </tr>\n    <tr>\n      <th>Project</th>\n      <td>0.641$\\pm$0.017</td>\n      <td>0.039$\\pm$0.029</td>\n      <td>0.227$\\pm$0.021</td>\n      <td>1.161$\\pm$0.145</td>\n      <td>0.2</td>\n    </tr>\n    <tr>\n      <th>Reduction</th>\n      <td>0.652$\\pm$0.012</td>\n      <td>-0.014$\\pm$0.054</td>\n      <td>0.037$\\pm$0.039</td>\n      <td>1.763$\\pm$0.069</td>\n      <td>1.0</td>\n    </tr>\n    <tr>\n      <th>SenSR</th>\n      <td>0.640$\\pm$0.022</td>\n      <td>0.046$\\pm$0.031</td>\n      <td>0.237$\\pm$0.018</td>\n      <td>1.098$\\pm$0.061</td>\n      <td>0.0</td>\n    </tr>\n  </tbody>\n</table>\n</div>"
     },
     "metadata": {},
     "execution_count": 189
    }
   ],
   "source": [
    "ind = dict()\n",
    "for i, expt in enumerate(row_names):\n",
    "    ind[i] = expt\n",
    "    res = result[colnames].rename(index=ind)\n",
    "res"
   ]
  },
  {
   "cell_type": "code",
   "execution_count": 190,
   "metadata": {
    "tags": []
   },
   "outputs": [
    {
     "output_type": "stream",
     "name": "stdout",
     "text": "\\begin{tabular}{lccccc}\n\\toprule\n{} &     Balanced Acc & $\\text{AOD}_{\\text{gen}}$ & $\\text{AOD}_{\\text{race}}$ &            $T_n$ & Rejection Prop \\\\\n{} \\\\\n\\midrule\nBaseline  &  0.675$\\pm$0.013 &           0.218$\\pm$0.041 &            0.260$\\pm$0.026 &  2.385$\\pm$0.262 &            1.0 \\\\\nProject   &  0.641$\\pm$0.017 &           0.039$\\pm$0.029 &            0.227$\\pm$0.021 &  1.161$\\pm$0.145 &            0.2 \\\\\nReduction &  0.652$\\pm$0.012 &          -0.014$\\pm$0.054 &            0.037$\\pm$0.039 &  1.763$\\pm$0.069 &            1.0 \\\\\nSenSR     &  0.640$\\pm$0.022 &           0.046$\\pm$0.031 &            0.237$\\pm$0.018 &  1.098$\\pm$0.061 &            0.0 \\\\\n\\bottomrule\n\\end{tabular}\n\n"
    }
   ],
   "source": [
    "print(res.to_latex(escape=False, column_format='l' + 'c'*len(colnames)))"
   ]
  },
  {
   "cell_type": "code",
   "execution_count": 137,
   "metadata": {},
   "outputs": [
    {
     "output_type": "execute_result",
     "data": {
      "text/plain": "array([[  767,  1876],\n       [ 5192, 98047],\n       [50057, 73349],\n       [21440, 98448],\n       [20609, 49100],\n       [ 7751, 43757],\n       [31228, 36230],\n       [97561, 21758],\n       [ 2367,  4534],\n       [51668, 64395]])"
     },
     "metadata": {},
     "execution_count": 137
    }
   ],
   "source": [
    "import numpy as np\n",
    "a = np.load('seeds.npy')\n",
    "a"
   ]
  },
  {
   "cell_type": "code",
   "execution_count": 134,
   "metadata": {},
   "outputs": [],
   "source": [
    "a[0, 0], a[0, 1] = 767, 1876"
   ]
  },
  {
   "cell_type": "code",
   "execution_count": 135,
   "metadata": {},
   "outputs": [
    {
     "output_type": "execute_result",
     "data": {
      "text/plain": "array([[  767,  1876],\n       [ 5192, 98047],\n       [50057, 73349],\n       [21440, 98448],\n       [20609, 49100],\n       [ 7751, 43757],\n       [31228, 36230],\n       [97561, 21758],\n       [ 2367,  4534],\n       [51668, 64395]])"
     },
     "metadata": {},
     "execution_count": 135
    }
   ],
   "source": [
    "a"
   ]
  },
  {
   "cell_type": "code",
   "execution_count": 136,
   "metadata": {},
   "outputs": [],
   "source": [
    "np.save('seeds.npy', a)"
   ]
  },
  {
   "cell_type": "code",
   "execution_count": null,
   "metadata": {},
   "outputs": [],
   "source": []
  }
 ],
 "metadata": {
  "kernelspec": {
   "display_name": "Python 3.7.4 64-bit",
   "language": "python",
   "name": "python37464bit48aa32fa6dba4f1bbd692e320b15fd93"
  },
  "language_info": {
   "codemirror_mode": {
    "name": "ipython",
    "version": 3
   },
   "file_extension": ".py",
   "mimetype": "text/x-python",
   "name": "python",
   "nbconvert_exporter": "python",
   "pygments_lexer": "ipython3",
   "version": "3.7.4-final"
  }
 },
 "nbformat": 4,
 "nbformat_minor": 2
}