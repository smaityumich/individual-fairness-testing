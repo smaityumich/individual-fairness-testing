{
 "cells": [
  {
   "cell_type": "markdown",
   "metadata": {},
   "source": [
    "# Summary table for *COMPAS* data\n",
    "\n",
    "Here we extract the summary measures for *Adult* data for four classifiers: (1) baseline, (2) project, (3) reduction, and (4) SenSR.\n",
    "For each of the classifiers we perform gradient flow attack with step size $\\frac{65}{1000\\times i^{2/3}},$ where $i$ is the current step number. We perform 200 steps of attacks on each data points. \n",
    "\n",
    "First, we load the summary data for all experiments, and compile it in a panda dataframe. "
   ]
  },
  {
   "cell_type": "code",
   "execution_count": 32,
   "metadata": {
    "tags": []
   },
   "outputs": [],
   "source": [
    "import re\n",
    "import pandas as pd\n",
    "with open('all_summary.out', 'r') as f:\n",
    "    data = f.read()\n",
    "entries = re.split('\\n', data)[:-1]"
   ]
  },
  {
   "cell_type": "code",
   "execution_count": 33,
   "metadata": {},
   "outputs": [],
   "source": [
    "entries_dict = []\n",
    "for e in entries:\n",
    "    try:\n",
    "        entries_dict.append(eval(e))\n",
    "    except:\n",
    "        continue\n",
    "data = pd.DataFrame(entries_dict)\n",
    "data['reject'] = data['pval'] < 0.05"
   ]
  },
  {
   "cell_type": "code",
   "execution_count": 44,
   "metadata": {
    "tags": []
   },
   "outputs": [
    {
     "output_type": "stream",
     "name": "stdout",
     "text": "('baseline',         algo            seed     lr  accuracy        lb  pval   bal_acc  \\\n1   baseline  (21440, 98448)  0.004  0.690341  1.687613   0.0  0.689772   \n4   baseline  (51668, 64395)  0.004  0.682765  1.638763   0.0  0.680608   \n17  baseline  (50057, 73349)  0.004  0.673295  1.796902   0.0  0.671552   \n22  baseline  (20609, 49100)  0.004  0.662879  1.943238   0.0  0.661266   \n24  baseline   (5192, 98047)  0.004  0.684659  1.695374   0.0  0.682843   \n25  baseline  (98539, 77708)  0.004  0.678030  1.546239   0.0  0.677028   \n32  baseline   (7751, 43757)  0.004  0.667614  1.732495   0.0  0.666520   \n34  baseline  (31228, 36230)  0.004  0.668561  1.819662   0.0  0.666856   \n37  baseline  (45413, 35730)  0.004  0.677083  1.780093   0.0  0.675576   \n40  baseline  (97561, 21758)  0.004  0.699811  1.802799   0.0  0.699386   \n\n    gap_rms_gen  mean_gap_gen  max_gap_gen   AOD-gen   EOD-gen   SPD-gen  \\\n1      0.273282      0.270220     0.311016  0.270220  0.311016  0.308418   \n4      0.208451      0.208451     0.208775  0.208451  0.208775  0.267464   \n17     0.213178      0.212599     0.228299  0.212599  0.228299  0.243473   \n22     0.211675      0.211234     0.224895  0.211234  0.224895  0.240263   \n24     0.284018      0.275974     0.343091  0.275974  0.343091  0.305556   \n25     0.222298      0.222052     0.232517  0.222052  0.211586  0.279762   \n32     0.260014      0.258266     0.288372  0.258266  0.228159  0.294957   \n34     0.215039      0.201406     0.276755  0.201406  0.276755  0.213542   \n37     0.212931      0.212907     0.216138  0.212907  0.216138  0.273108   \n40     0.205258      0.205117     0.212716  0.205117  0.212716  0.251740   \n\n    gap_rms_race  mean_gap_race  max_gap_race  AOD-race  EOD-race  SPD-race  \\\n1       0.288328       0.286594      0.318173  0.286594  0.318173  0.322289   \n4       0.273532       0.271824      0.302341  0.271824  0.302341  0.313979   \n17      0.264729       0.252887      0.331180  0.252887  0.331180  0.279447   \n22      0.212425       0.212179      0.222397  0.212179  0.222397  0.255406   \n24      0.302690       0.296249      0.358362  0.296249  0.358362  0.335578   \n25      0.184622       0.184411      0.193236  0.184411  0.193236  0.231083   \n32      0.257715       0.254265      0.296294  0.254265  0.296294  0.293558   \n34      0.275211       0.271706      0.315492  0.271706  0.315492  0.311211   \n37      0.266023       0.261956      0.308293  0.261956  0.308293  0.294543   \n40      0.225736       0.225590      0.233696  0.225590  0.233696  0.282457   \n\n    reject  \n1     True  \n4     True  \n17    True  \n22    True  \n24    True  \n25    True  \n32    True  \n34    True  \n37    True  \n40    True  )\n('project',        algo            seed     lr  accuracy        lb      pval   bal_acc  \\\n8   project  (98539, 77708)  0.004  0.647727  1.252254  0.025542  0.648071   \n43  project   (7751, 43757)  0.004  0.641098  1.277660  0.000003  0.639355   \n46  project  (20609, 49100)  0.004  0.625947  1.049007  1.000000  0.621808   \n49  project  (50057, 73349)  0.004  0.643939  1.100928  1.000000  0.642373   \n54  project  (45413, 35730)  0.004  0.631629  1.946574  0.000000  0.630076   \n60  project  (97561, 21758)  0.004  0.682765  1.027800  1.000000  0.681166   \n64  project  (31228, 36230)  0.004  0.647727  1.072774  1.000000  0.645505   \n79  project  (51668, 64395)  0.004  0.645833  1.074879  1.000000  0.643827   \n\n    gap_rms_gen  mean_gap_gen  max_gap_gen   AOD-gen   EOD-gen   SPD-gen  \\\n8      0.060474      0.057585     0.076053  0.057585  0.076053  0.101190   \n43     0.058545      0.049037     0.081020  0.049037  0.081020  0.070643   \n46     0.098338      0.073525     0.138828  0.073525  0.138828  0.086316   \n49     0.047318      0.047168     0.050926  0.003757  0.050926  0.024325   \n54     0.068450      0.067619     0.078254  0.067619  0.078254  0.111960   \n60     0.051998      0.048708     0.066910  0.048708  0.030506  0.097771   \n64     0.056029      0.049969     0.075313  0.025345  0.075313  0.038773   \n79     0.053372      0.046943     0.072338  0.046943  0.072338  0.089713   \n\n    gap_rms_race  mean_gap_race  max_gap_race  AOD-race  EOD-race  SPD-race  \\\n8       0.191641       0.191319      0.202428  0.191319  0.202428  0.229169   \n43      0.267241       0.254261      0.336535  0.254261  0.336535  0.281162   \n46      0.226571       0.226550      0.229606  0.226550  0.229606  0.258183   \n49      0.232304       0.227710      0.273683  0.227710  0.273683  0.251563   \n54      0.165337       0.162440      0.193254  0.162440  0.193254  0.187366   \n60      0.201287       0.201207      0.206890  0.201207  0.195523  0.254539   \n64      0.216146       0.210016      0.261129  0.210016  0.261129  0.243600   \n79      0.238657       0.237620      0.259844  0.237620  0.259844  0.271016   \n\n    reject  \n8     True  \n43    True  \n46   False  \n49   False  \n54    True  \n60   False  \n64   False  \n79   False  )\n('reduction',           algo   seed     lr  accuracy        lb  pval   bal_acc  gap_rms_gen  \\\n88   reduction  51668  0.004  0.657197  1.402701   0.0  0.650878     0.018115   \n91   reduction  45413  0.004  0.663826  1.449990   0.0  0.659371     0.020811   \n92   reduction  97561  0.004  0.683712  1.354458   0.0  0.678490     0.075723   \n125  reduction   5192  0.004  0.644886  1.394231   0.0  0.640590     0.103489   \n127  reduction  50057  0.004  0.658144  1.393922   0.0  0.651661     0.027399   \n129  reduction  98539  0.004  0.669508  1.399495   0.0  0.665184     0.036514   \n136  reduction  21440  0.004  0.671402  1.378324   0.0  0.665857     0.066394   \n141  reduction  20609  0.004  0.642992  1.456422   0.0  0.636792     0.055428   \n144  reduction  31228  0.004  0.649621  1.382201   0.0  0.643276     0.052269   \n147  reduction   7751  0.004  0.662879  1.407996   0.0  0.656915     0.032516   \n\n     mean_gap_gen  max_gap_gen   AOD-gen   EOD-gen   SPD-gen  gap_rms_race  \\\n88       0.017701     0.021549 -0.003848 -0.021549  0.053828      0.017032   \n91       0.016229     0.029256 -0.016229 -0.029256  0.047750      0.055374   \n92       0.057936     0.106695 -0.048758 -0.106695  0.009002      0.015691   \n125      0.082545     0.144965  0.082545  0.144965  0.104167      0.146407   \n127      0.025924     0.034793  0.025924  0.034793  0.055223      0.058814   \n129      0.035072     0.045231 -0.035072 -0.045231  0.023280      0.034559   \n136      0.053788     0.092711  0.053788  0.092711  0.088579      0.043039   \n141      0.055367     0.057972 -0.055367 -0.052761 -0.027520      0.014972   \n144      0.049900     0.065459 -0.015559  0.034341 -0.002315      0.069593   \n147      0.030328     0.042052 -0.030328 -0.042052  0.003018      0.098830   \n\n     mean_gap_race  max_gap_race  AOD-race  EOD-race  SPD-race  reject  \n88        0.016566      0.020523 -0.003957 -0.020523  0.040371    True  \n91        0.044132      0.077578 -0.033447  0.010685 -0.000537    True  \n92        0.011477      0.022177  0.010700 -0.000776  0.068531    True  \n125       0.134502      0.192332  0.134502  0.192332  0.165531    True  \n127       0.050999      0.080294  0.029295  0.080294  0.056971    True  \n129       0.031818      0.045306 -0.013488  0.018329  0.031126    True  \n136       0.039870      0.056078  0.039870  0.056078  0.074862    True  \n141       0.011784      0.021020  0.011784  0.021020  0.052219    True  \n144       0.053028      0.098096  0.045068  0.098096  0.081437    True  \n147       0.080726      0.137741  0.057015  0.137741  0.093497    True  )\n('sensr',       algo            seed     lr  accuracy        lb  pval   bal_acc  \\\n66   sensr  (50057, 73349)  0.004  0.635417  1.114540   1.0  0.632538   \n72   sensr   (5192, 98047)  0.004  0.638258  1.057991   1.0  0.635556   \n73   sensr  (98539, 77708)  0.004  0.642045  1.204701   1.0  0.641812   \n97   sensr  (51668, 64395)  0.004  0.648674  1.032293   1.0  0.646622   \n101  sensr  (45413, 35730)  0.004  0.622159  2.180152   0.0  0.620127   \n106  sensr  (20609, 49100)  0.004  0.617424  1.042616   1.0  0.612977   \n110  sensr  (21440, 98448)  0.004  0.656250  1.028816   1.0  0.654894   \n115  sensr  (31228, 36230)  0.004  0.654356  1.073574   1.0  0.653663   \n118  sensr   (7751, 43757)  0.004  0.642045  1.093054   1.0  0.640026   \n122  sensr  (97561, 21758)  0.004  0.686553  1.020681   1.0  0.686083   \n\n     gap_rms_gen  mean_gap_gen  max_gap_gen   AOD-gen   EOD-gen   SPD-gen  \\\n66      0.061126      0.060201     0.070790  0.010589  0.070790  0.026720   \n72      0.086540      0.070109     0.120843  0.070109  0.120843  0.093171   \n73      0.057191      0.053776     0.073242  0.053776  0.073242  0.095106   \n97      0.075711      0.057137     0.106811  0.057137  0.106811  0.094258   \n101     0.090329      0.088195     0.107714  0.088195  0.107714  0.125808   \n106     0.097276      0.079178     0.135688  0.079178  0.135688  0.091683   \n110     0.106370      0.080187     0.150077  0.080187  0.150077  0.105205   \n115     0.071987      0.057113     0.100933  0.043819  0.100933  0.057292   \n118     0.055727      0.048172     0.076189  0.048172  0.076189  0.070621   \n122     0.068093      0.064814     0.085690  0.064814  0.043939  0.115516   \n\n     gap_rms_race  mean_gap_race  max_gap_race  AOD-race  EOD-race  SPD-race  \\\n66       0.224590       0.220995      0.261018  0.220995  0.261018  0.243389   \n72       0.260275       0.249603      0.323368  0.249603  0.323368  0.275388   \n73       0.187660       0.187660      0.187815  0.187660  0.187505  0.225066   \n97       0.224191       0.223138      0.244838  0.223138  0.244838  0.257656   \n101      0.184828       0.180747      0.219374  0.180747  0.219374  0.202293   \n106      0.240705       0.240687      0.243631  0.240687  0.243631  0.269319   \n110      0.258579       0.256076      0.291962  0.256076  0.291962  0.283820   \n115      0.238209       0.232203      0.285353  0.232203  0.285353  0.267533   \n118      0.277231       0.259387      0.357241  0.259387  0.357241  0.284692   \n122      0.203838       0.203633      0.212778  0.203633  0.194488  0.258884   \n\n     reject  \n66    False  \n72    False  \n73    False  \n97    False  \n101    True  \n106   False  \n110   False  \n115   False  \n118   False  \n122   False  )\n"
    }
   ],
   "source": [
    "lr = 4e-3\n",
    "data_lr = data.loc[data['lr'] == lr]\n",
    "data_lr = data_lr.rename(columns= {'average_odds_difference_gen': 'AOD-gen', 'average_odds_difference_race': 'AOD-race', 'statistical_parity_difference_gen': 'SPD-gen', 'statistical_parity_difference_race': 'SPD-race', 'equal_opportunity_difference_race': 'EOD-race', 'equal_opportunity_difference_gen': 'EOD-gen'})\n",
    "for x in data_lr.groupby(['algo']):\n",
    "    print(x)"
   ]
  },
  {
   "cell_type": "markdown",
   "metadata": {},
   "source": [
    "We only extract the following measures: balanced accuracy, average odds difference for gender and race and lower bound and proportion of times the test being rejected. "
   ]
  },
  {
   "cell_type": "code",
   "execution_count": 35,
   "metadata": {},
   "outputs": [],
   "source": [
    "measure = ['bal_acc', 'AOD-gen', 'AOD-race', 'lb', 'reject']\n",
    "agg_dict = dict()\n",
    "for key in measure:\n",
    "    agg_dict[key] = ['mean', 'std']\n",
    "result = data_lr.groupby(['algo'], as_index=False).agg(agg_dict)"
   ]
  },
  {
   "cell_type": "code",
   "execution_count": 36,
   "metadata": {},
   "outputs": [],
   "source": [
    "rows = ['sensr', 'reduction', 'baseline', 'project']\n",
    "row_names = ['Baseline', 'Project', 'Reduction','SenSR']\n",
    "colnames=['Balanced Acc', '$\\\\text{AOD}_{\\\\text{gen}}$', '$\\\\text{AOD}_{\\\\text{race}}$', '$T_n$', 'Rejection Prop']\n"
   ]
  },
  {
   "cell_type": "code",
   "execution_count": 37,
   "metadata": {},
   "outputs": [],
   "source": [
    "for i, c in enumerate(measure):\n",
    "    if c == 'reject':\n",
    "        idx_best = (1-result[c]['mean']).idxmin()\n",
    "        result[colnames[i]] = (result[c]['mean']).apply(\"{:.1f}\".format)\n",
    "        #result.at[idx_best, colnames[i]] = '\\\\textbf{' + result[colnames[i]][idx_best] + '}'\n",
    "        \n",
    "    elif c == 'bal_acc':\n",
    "        idx_best = (result[c]['mean']).idxmax()\n",
    "        result[colnames[i]] = result[c]['mean'].apply(\"{:.3f}\".format)+ '$\\pm$' + result[c]['std'].apply(\"{:.3f}\".format)\n",
    "        best_val = result[colnames[i]][idx_best].split('$\\pm$')\n",
    "        best_val = '$\\pm$'.join(['\\\\textbf{' + best_val[0] + '}', best_val[1]])\n",
    "        #result.at[idx_best, colnames[i]] = best_val\n",
    "    elif c == 'lb':\n",
    "        idx_best = (result[c]['mean']).idxmin()\n",
    "        result[colnames[i]] = result[c]['mean'].apply(\"{:.3f}\".format)+ '$\\pm$' + result[c]['std'].apply(\"{:.3f}\".format)\n",
    "        best_val = result[colnames[i]][idx_best].split('$\\pm$')\n",
    "        best_val = '$\\pm$'.join(['\\\\textbf{' + best_val[0] + '}', best_val[1]])\n",
    "        #result.at[idx_best, colnames[i]] = best_val\n",
    "    else:\n",
    "        idx_best = (result[c]['mean']).abs().idxmin()\n",
    "        result[colnames[i]] = result[c]['mean'].apply(\"{:.3f}\".format)+ '$\\pm$' + result[c]['std'].apply(\"{:.3f}\".format)\n",
    "        best_val = result[colnames[i]][idx_best].split('$\\pm$')\n",
    "        best_val = '$\\pm$'.join(['\\\\textbf{' + best_val[0] + '}', best_val[1]])\n",
    "        #result.at[idx_best, colnames[i]] = best_val\n"
   ]
  },
  {
   "cell_type": "code",
   "execution_count": 38,
   "metadata": {},
   "outputs": [
    {
     "output_type": "execute_result",
     "data": {
      "text/plain": "              Balanced Acc $\\text{AOD}_{\\text{gen}}$  \\\n                                                       \nBaseline   0.677$\\pm$0.012           0.228$\\pm$0.029   \nProject    0.644$\\pm$0.017           0.047$\\pm$0.023   \nReduction  0.655$\\pm$0.013          -0.004$\\pm$0.045   \nSenSR      0.642$\\pm$0.020           0.060$\\pm$0.023   \n\n          $\\text{AOD}_{\\text{race}}$            $T_n$ Rejection Prop  \n                                                                      \nBaseline             0.252$\\pm$0.035  1.744$\\pm$0.110            1.0  \nProject              0.214$\\pm$0.029  1.225$\\pm$0.306            0.4  \nReduction            0.028$\\pm$0.047  1.402$\\pm$0.031            1.0  \nSenSR                0.225$\\pm$0.028  1.185$\\pm$0.354            0.1  ",
      "text/html": "<div>\n<style scoped>\n    .dataframe tbody tr th:only-of-type {\n        vertical-align: middle;\n    }\n\n    .dataframe tbody tr th {\n        vertical-align: top;\n    }\n\n    .dataframe thead tr th {\n        text-align: left;\n    }\n</style>\n<table border=\"1\" class=\"dataframe\">\n  <thead>\n    <tr>\n      <th></th>\n      <th>Balanced Acc</th>\n      <th>$\\text{AOD}_{\\text{gen}}$</th>\n      <th>$\\text{AOD}_{\\text{race}}$</th>\n      <th>$T_n$</th>\n      <th>Rejection Prop</th>\n    </tr>\n    <tr>\n      <th></th>\n      <th></th>\n      <th></th>\n      <th></th>\n      <th></th>\n      <th></th>\n    </tr>\n  </thead>\n  <tbody>\n    <tr>\n      <th>Baseline</th>\n      <td>0.677$\\pm$0.012</td>\n      <td>0.228$\\pm$0.029</td>\n      <td>0.252$\\pm$0.035</td>\n      <td>1.744$\\pm$0.110</td>\n      <td>1.0</td>\n    </tr>\n    <tr>\n      <th>Project</th>\n      <td>0.644$\\pm$0.017</td>\n      <td>0.047$\\pm$0.023</td>\n      <td>0.214$\\pm$0.029</td>\n      <td>1.225$\\pm$0.306</td>\n      <td>0.4</td>\n    </tr>\n    <tr>\n      <th>Reduction</th>\n      <td>0.655$\\pm$0.013</td>\n      <td>-0.004$\\pm$0.045</td>\n      <td>0.028$\\pm$0.047</td>\n      <td>1.402$\\pm$0.031</td>\n      <td>1.0</td>\n    </tr>\n    <tr>\n      <th>SenSR</th>\n      <td>0.642$\\pm$0.020</td>\n      <td>0.060$\\pm$0.023</td>\n      <td>0.225$\\pm$0.028</td>\n      <td>1.185$\\pm$0.354</td>\n      <td>0.1</td>\n    </tr>\n  </tbody>\n</table>\n</div>"
     },
     "metadata": {},
     "execution_count": 38
    }
   ],
   "source": [
    "ind = dict()\n",
    "for i, expt in enumerate(row_names):\n",
    "    ind[i] = expt\n",
    "    res = result[colnames].rename(index=ind)\n",
    "res"
   ]
  },
  {
   "cell_type": "code",
   "execution_count": 31,
   "metadata": {
    "tags": []
   },
   "outputs": [
    {
     "output_type": "stream",
     "name": "stdout",
     "text": "\\begin{tabular}{lccccc}\n\\toprule\n{} &     Balanced Acc & $\\text{AOD}_{\\text{gen}}$ & $\\text{AOD}_{\\text{race}}$ &            $T_n$ & Rejection Prop \\\\\n{} \\\\\n\\midrule\nBaseline  &  0.677$\\pm$0.012 &           0.228$\\pm$0.029 &            0.252$\\pm$0.035 &  1.992$\\pm$0.149 &            1.0 \\\\\nProject   &  0.645$\\pm$0.017 &           0.047$\\pm$0.023 &            0.208$\\pm$0.024 &  1.253$\\pm$0.420 &            0.2 \\\\\nReduction &  0.655$\\pm$0.013 &          -0.004$\\pm$0.045 &            0.028$\\pm$0.047 &  1.534$\\pm$0.043 &            1.0 \\\\\nSenSR     &  0.642$\\pm$0.020 &           0.060$\\pm$0.023 &            0.225$\\pm$0.028 &  1.247$\\pm$0.489 &            0.2 \\\\\n\\bottomrule\n\\end{tabular}\n\n"
    }
   ],
   "source": [
    "print(res.to_latex(escape=False, column_format='l' + 'c'*len(colnames)))"
   ]
  },
  {
   "cell_type": "code",
   "execution_count": null,
   "metadata": {},
   "outputs": [],
   "source": [
    "import numpy as np\n",
    "a = np.load('seeds.npy')"
   ]
  },
  {
   "cell_type": "code",
   "execution_count": null,
   "metadata": {},
   "outputs": [],
   "source": []
  }
 ],
 "metadata": {
  "kernelspec": {
   "display_name": "Python 3.7.4 64-bit",
   "language": "python",
   "name": "python37464bit48aa32fa6dba4f1bbd692e320b15fd93"
  },
  "language_info": {
   "codemirror_mode": {
    "name": "ipython",
    "version": 3
   },
   "file_extension": ".py",
   "mimetype": "text/x-python",
   "name": "python",
   "nbconvert_exporter": "python",
   "pygments_lexer": "ipython3",
   "version": "3.7.4-final"
  }
 },
 "nbformat": 4,
 "nbformat_minor": 2
}