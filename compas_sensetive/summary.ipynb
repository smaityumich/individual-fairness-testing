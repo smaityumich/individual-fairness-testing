{
 "cells": [
  {
   "cell_type": "markdown",
   "metadata": {},
   "source": [
    "# Summary table for *COMPAS* data\n",
    "\n",
    "Here we extract the summary measures for *Adult* data for four classifiers: (1) baseline, (2) project, (3) reduction, and (4) SenSR.\n",
    "For each of the classifiers we perform gradient flow attack with step size $\\frac{65}{1000\\times i^{2/3}},$ where $i$ is the current step number. We perform 200 steps of attacks on each data points. \n",
    "\n",
    "First, we load the summary data for all experiments, and compile it in a panda dataframe. "
   ]
  },
  {
   "cell_type": "code",
   "execution_count": 111,
   "metadata": {
    "tags": []
   },
   "outputs": [],
   "source": [
    "import re\n",
    "import pandas as pd\n",
    "with open('all_summary.out', 'r') as f:\n",
    "    data = f.read()\n",
    "entries = re.split('\\n', data)[:-1]"
   ]
  },
  {
   "cell_type": "code",
   "execution_count": 112,
   "metadata": {},
   "outputs": [],
   "source": [
    "entries_dict = []\n",
    "for e in entries:\n",
    "    try:\n",
    "        entries_dict.append(eval(e))\n",
    "    except:\n",
    "        continue\n",
    "data = pd.DataFrame(entries_dict)\n",
    "data['reject'] = data['pval'] < 0.05"
   ]
  },
  {
   "cell_type": "code",
   "execution_count": 123,
   "metadata": {
    "tags": []
   },
   "outputs": [
    {
     "output_type": "stream",
     "name": "stdout",
     "text": "('baseline',         algo            seed     lr  accuracy        lb  pval   bal_acc  \\\n5   baseline  (50057, 73349)  0.003  0.673295  1.797231   0.0  0.671552   \n10  baseline   (5192, 98047)  0.003  0.684659  1.695694   0.0  0.682843   \n15  baseline  (73467, 52346)  0.003  0.673295  1.547622   0.0  0.674453   \n24  baseline  (51668, 64395)  0.003  0.682765  1.639020   0.0  0.680608   \n27  baseline    (2367, 4534)  0.003  0.660985  1.519616   0.0  0.662044   \n36  baseline  (20609, 49100)  0.003  0.662879  1.943587   0.0  0.661266   \n44  baseline  (97561, 21758)  0.003  0.699811  1.803089   0.0  0.699386   \n56  baseline  (31228, 36230)  0.003  0.668561  1.819969   0.0  0.666856   \n\n    gap_rms_gen  mean_gap_gen  max_gap_gen   AOD-gen   EOD-gen   SPD-gen  \\\n5      0.213178      0.212599     0.228299  0.212599  0.228299  0.243473   \n10     0.284018      0.275974     0.343091  0.275974  0.343091  0.305556   \n15     0.216695      0.216220     0.230562  0.216220  0.201878  0.264373   \n24     0.208451      0.208451     0.208775  0.208451  0.208775  0.267464   \n27     0.149799      0.138274     0.195894  0.138274  0.080654  0.199877   \n36     0.211675      0.211234     0.224895  0.211234  0.224895  0.240263   \n44     0.205258      0.205117     0.212716  0.205117  0.212716  0.251740   \n56     0.215039      0.201406     0.276755  0.201406  0.276755  0.213542   \n\n    gap_rms_race  mean_gap_race  max_gap_race  AOD-race  EOD-race  SPD-race  \\\n5       0.264729       0.252887      0.331180  0.252887  0.331180  0.279447   \n10      0.302690       0.296249      0.358362  0.296249  0.358362  0.335578   \n15      0.308456       0.306475      0.341377  0.306475  0.341377  0.341168   \n24      0.273532       0.271824      0.302341  0.271824  0.302341  0.313979   \n27      0.256769       0.256375      0.270594  0.256375  0.242156  0.293938   \n36      0.212425       0.212179      0.222397  0.212179  0.222397  0.255406   \n44      0.225736       0.225590      0.233696  0.225590  0.233696  0.282457   \n56      0.275211       0.271706      0.315492  0.271706  0.315492  0.311211   \n\n    reject  \n5     True  \n10    True  \n15    True  \n24    True  \n27    True  \n36    True  \n44    True  \n56    True  )\n('project',         algo            seed     lr  accuracy        lb      pval   bal_acc  \\\n22   project  (20609, 49100)  0.003  0.625947  1.049007  1.000000  0.621808   \n76   project  (31228, 36230)  0.003  0.647727  1.072779  1.000000  0.645505   \n82   project  (97561, 21758)  0.003  0.682765  1.027803  1.000000  0.681166   \n87   project    (2367, 4534)  0.003  0.635417  1.229235  0.962463  0.635327   \n90   project   (7751, 43757)  0.003  0.641098  1.274917  0.000013  0.639355   \n134  project   (5192, 98047)  0.003  0.635417  1.051935  1.000000  0.632314   \n141  project  (50057, 73349)  0.003  0.643939  1.100930  1.000000  0.642373   \n143  project  (73467, 52346)  0.003  0.662879  1.433059  0.000000  0.661490   \n146  project  (21440, 98448)  0.003  0.650568  1.025460  1.000000  0.646514   \n227  project  (51668, 64395)  0.003  0.645833  1.074885  1.000000  0.643827   \n\n     gap_rms_gen  mean_gap_gen  max_gap_gen   AOD-gen   EOD-gen   SPD-gen  \\\n22      0.098338      0.073525     0.138828  0.073525  0.138828  0.086316   \n76      0.056029      0.049969     0.075313  0.025345  0.075313  0.038773   \n82      0.051998      0.048708     0.066910  0.048708  0.030506  0.097771   \n87      0.015765      0.015035     0.019776  0.015035  0.010294  0.057322   \n90      0.058545      0.049037     0.081020  0.049037  0.081020  0.070643   \n134     0.112483      0.081665     0.159016  0.081665  0.159016  0.097801   \n141     0.047318      0.047168     0.050926  0.003757  0.050926  0.024325   \n143     0.128914      0.118682     0.169014  0.118682  0.169014  0.149584   \n146     0.063155      0.056029     0.085173  0.056029  0.085173  0.087777   \n227     0.053372      0.046943     0.072338  0.046943  0.072338  0.089713   \n\n     gap_rms_race  mean_gap_race  max_gap_race  AOD-race  EOD-race  SPD-race  \\\n22       0.226571       0.226550      0.229606  0.226550  0.229606  0.258183   \n76       0.216146       0.210016      0.261129  0.210016  0.261129  0.243600   \n82       0.201287       0.201207      0.206890  0.201207  0.195523  0.254539   \n87       0.267005       0.266398      0.284387  0.266398  0.248410  0.297580   \n90       0.267241       0.254261      0.336535  0.254261  0.336535  0.281162   \n134      0.234885       0.225918      0.290198  0.225918  0.290198  0.252207   \n141      0.232304       0.227710      0.273683  0.227710  0.273683  0.251563   \n143      0.212270       0.208952      0.246333  0.208952  0.246333  0.241631   \n146      0.205745       0.205193      0.220253  0.205193  0.220253  0.233983   \n227      0.238657       0.237620      0.259844  0.237620  0.259844  0.271016   \n\n     reject  \n22    False  \n76    False  \n82    False  \n87    False  \n90     True  \n134   False  \n141   False  \n143    True  \n146   False  \n227   False  )\n('reduction',           algo   seed     lr  accuracy        lb  pval   bal_acc  gap_rms_gen  \\\n61   reduction  50057  0.003  0.658144  1.394014   0.0  0.651661     0.027399   \n67   reduction   5192  0.003  0.644886  1.394322   0.0  0.640590     0.103489   \n70   reduction  73467  0.003  0.665720  1.396828   0.0  0.661383     0.009508   \n153  reduction  20609  0.003  0.642992  1.456541   0.0  0.636792     0.055428   \n166  reduction  21440  0.003  0.671402  1.378409   0.0  0.665857     0.066394   \n167  reduction   7751  0.003  0.662879  1.408092   0.0  0.656915     0.032516   \n182  reduction  51668  0.003  0.657197  1.402797   0.0  0.650878     0.018115   \n183  reduction  31228  0.003  0.649621  1.382287   0.0  0.643276     0.052269   \n195  reduction  97561  0.003  0.683712  1.354533   0.0  0.678490     0.075723   \n197  reduction   2367  0.003  0.649621  1.404146   0.0  0.645285     0.102735   \n\n     mean_gap_gen  max_gap_gen   AOD-gen   EOD-gen   SPD-gen  gap_rms_race  \\\n61       0.025924     0.034793  0.025924  0.034793  0.055223      0.058814   \n67       0.082545     0.144965  0.082545  0.144965  0.104167      0.146407   \n70       0.009149     0.011737  0.002588  0.011737  0.044202      0.007878   \n153      0.055367     0.057972 -0.055367 -0.052761 -0.027520      0.014972   \n166      0.053788     0.092711  0.053788  0.092711  0.088579      0.043039   \n167      0.030328     0.042052 -0.030328 -0.042052  0.003018      0.098830   \n182      0.017701     0.021549 -0.003848 -0.021549  0.053828      0.017032   \n183      0.049900     0.065459 -0.015559  0.034341 -0.002315      0.069593   \n195      0.057936     0.106695 -0.048758 -0.106695  0.009002      0.015691   \n197      0.082105     0.143856 -0.082105 -0.143856 -0.021355      0.034840   \n\n     mean_gap_race  max_gap_race  AOD-race  EOD-race  SPD-race  reject  \n61        0.050999      0.080294  0.029295  0.080294  0.056971    True  \n67        0.134502      0.192332  0.134502  0.192332  0.165531    True  \n70        0.007697      0.009374  0.007697  0.009374  0.047009    True  \n153       0.011784      0.021020  0.011784  0.021020  0.052219    True  \n166       0.039870      0.056078  0.039870  0.056078  0.074862    True  \n167       0.080726      0.137741  0.057015  0.137741  0.093497    True  \n182       0.016566      0.020523 -0.003957 -0.020523  0.040371    True  \n183       0.053028      0.098096  0.045068  0.098096  0.081437    True  \n195       0.011477      0.022177  0.010700 -0.000776  0.068531    True  \n197       0.030955      0.046943  0.015987 -0.014968  0.054629    True  )\n('sensr',       algo            seed     lr  accuracy        lb  pval   bal_acc  \\\n98   sensr  (97561, 21758)  0.003  0.686553  1.020681   1.0  0.686083   \n102  sensr  (51668, 64395)  0.003  0.648674  1.032300   1.0  0.646622   \n107  sensr    (2367, 4534)  0.003  0.625000  1.089264   1.0  0.623814   \n120  sensr   (7751, 43757)  0.003  0.642045  1.093085   1.0  0.640026   \n123  sensr  (20609, 49100)  0.003  0.617424  1.042621   1.0  0.612977   \n127  sensr  (31228, 36230)  0.003  0.654356  1.073568   1.0  0.653663   \n201  sensr  (21440, 98448)  0.003  0.656250  1.028870   1.0  0.654894   \n212  sensr  (50057, 73349)  0.003  0.635417  1.114550   1.0  0.632538   \n220  sensr  (73467, 52346)  0.003  0.663826  1.356253   0.0  0.664839   \n225  sensr   (5192, 98047)  0.003  0.638258  1.057993   1.0  0.635556   \n\n     gap_rms_gen  mean_gap_gen  max_gap_gen   AOD-gen   EOD-gen   SPD-gen  \\\n98      0.068093      0.064814     0.085690  0.064814  0.043939  0.115516   \n102     0.075711      0.057137     0.106811  0.057137  0.106811  0.094258   \n107     0.021991      0.021917     0.023725  0.021917  0.023725  0.058978   \n120     0.055727      0.048172     0.076189  0.048172  0.076189  0.070621   \n123     0.097276      0.079178     0.135688  0.079178  0.135688  0.091683   \n127     0.071987      0.057113     0.100933  0.043819  0.100933  0.057292   \n201     0.106370      0.080187     0.150077  0.080187  0.150077  0.105205   \n212     0.061126      0.060201     0.070790  0.010589  0.070790  0.026720   \n220     0.125302      0.108244     0.171362  0.108244  0.171362  0.137239   \n225     0.086540      0.070109     0.120843  0.070109  0.120843  0.093171   \n\n     gap_rms_race  mean_gap_race  max_gap_race  AOD-race  EOD-race  SPD-race  \\\n98       0.203838       0.203633      0.212778  0.203633  0.194488  0.258884   \n102      0.224191       0.223138      0.244838  0.223138  0.244838  0.257656   \n107      0.257787       0.256180      0.284925  0.256180  0.227434  0.285714   \n120      0.277231       0.259387      0.357241  0.259387  0.357241  0.284692   \n123      0.240705       0.240687      0.243631  0.240687  0.243631  0.269319   \n127      0.238209       0.232203      0.285353  0.232203  0.285353  0.267533   \n201      0.258579       0.256076      0.291962  0.256076  0.291962  0.283820   \n212      0.224590       0.220995      0.261018  0.220995  0.261018  0.243389   \n220      0.229971       0.228821      0.251789  0.228821  0.251789  0.263533   \n225      0.260275       0.249603      0.323368  0.249603  0.323368  0.275388   \n\n     reject  \n98    False  \n102   False  \n107   False  \n120   False  \n123   False  \n127   False  \n201   False  \n212   False  \n220    True  \n225   False  )\n"
    }
   ],
   "source": [
    "lr = 3e-3\n",
    "data_lr = data.loc[data['lr'] == lr]\n",
    "data_lr = data_lr.rename(columns= {'average_odds_difference_gen': 'AOD-gen', 'average_odds_difference_race': 'AOD-race', 'statistical_parity_difference_gen': 'SPD-gen', 'statistical_parity_difference_race': 'SPD-race', 'equal_opportunity_difference_race': 'EOD-race', 'equal_opportunity_difference_gen': 'EOD-gen'})\n",
    "for x in data_lr.groupby(['algo']):\n",
    "    print(x)"
   ]
  },
  {
   "cell_type": "markdown",
   "metadata": {},
   "source": [
    "We only extract the following measures: balanced accuracy, average odds difference for gender and race and lower bound and proportion of times the test being rejected. "
   ]
  },
  {
   "cell_type": "code",
   "execution_count": 124,
   "metadata": {},
   "outputs": [],
   "source": [
    "measure = ['bal_acc', 'AOD-gen', 'AOD-race', 'lb', 'reject']\n",
    "agg_dict = dict()\n",
    "for key in measure:\n",
    "    agg_dict[key] = ['mean', 'std']\n",
    "result = data_lr.groupby(['algo'], as_index=False).agg(agg_dict)"
   ]
  },
  {
   "cell_type": "code",
   "execution_count": 125,
   "metadata": {},
   "outputs": [],
   "source": [
    "rows = ['sensr', 'reduction', 'baseline', 'project']\n",
    "row_names = ['Baseline', 'Project', 'Reduction','SenSR']\n",
    "colnames=['Balanced Acc', '$\\\\text{AOD}_{\\\\text{gen}}$', '$\\\\text{AOD}_{\\\\text{race}}$', '$T_n$', 'Rejection Prop']\n"
   ]
  },
  {
   "cell_type": "code",
   "execution_count": 126,
   "metadata": {},
   "outputs": [],
   "source": [
    "for i, c in enumerate(measure):\n",
    "    if c == 'reject':\n",
    "        idx_best = (1-result[c]['mean']).idxmin()\n",
    "        result[colnames[i]] = (result[c]['mean']).apply(\"{:.1f}\".format)\n",
    "        #result.at[idx_best, colnames[i]] = '\\\\textbf{' + result[colnames[i]][idx_best] + '}'\n",
    "        \n",
    "    elif c == 'bal_acc':\n",
    "        idx_best = (result[c]['mean']).idxmax()\n",
    "        result[colnames[i]] = result[c]['mean'].apply(\"{:.3f}\".format)+ '$\\pm$' + result[c]['std'].apply(\"{:.3f}\".format)\n",
    "        best_val = result[colnames[i]][idx_best].split('$\\pm$')\n",
    "        best_val = '$\\pm$'.join(['\\\\textbf{' + best_val[0] + '}', best_val[1]])\n",
    "        #result.at[idx_best, colnames[i]] = best_val\n",
    "    elif c == 'lb':\n",
    "        idx_best = (result[c]['mean']).idxmin()\n",
    "        result[colnames[i]] = result[c]['mean'].apply(\"{:.3f}\".format)+ '$\\pm$' + result[c]['std'].apply(\"{:.3f}\".format)\n",
    "        best_val = result[colnames[i]][idx_best].split('$\\pm$')\n",
    "        best_val = '$\\pm$'.join(['\\\\textbf{' + best_val[0] + '}', best_val[1]])\n",
    "        #result.at[idx_best, colnames[i]] = best_val\n",
    "    else:\n",
    "        idx_best = (result[c]['mean']).abs().idxmin()\n",
    "        result[colnames[i]] = result[c]['mean'].apply(\"{:.3f}\".format)+ '$\\pm$' + result[c]['std'].apply(\"{:.3f}\".format)\n",
    "        best_val = result[colnames[i]][idx_best].split('$\\pm$')\n",
    "        best_val = '$\\pm$'.join(['\\\\textbf{' + best_val[0] + '}', best_val[1]])\n",
    "        #result.at[idx_best, colnames[i]] = best_val\n"
   ]
  },
  {
   "cell_type": "code",
   "execution_count": 127,
   "metadata": {},
   "outputs": [
    {
     "output_type": "execute_result",
     "data": {
      "text/plain": "              Balanced Acc $\\text{AOD}_{\\text{gen}}$  \\\n                                                       \nBaseline   0.675$\\pm$0.013           0.209$\\pm$0.037   \nProject    0.645$\\pm$0.016           0.052$\\pm$0.034   \nReduction  0.653$\\pm$0.013          -0.007$\\pm$0.051   \nSenSR      0.645$\\pm$0.021           0.058$\\pm$0.029   \n\n          $\\text{AOD}_{\\text{race}}$            $T_n$ Rejection Prop  \n                                                                      \nBaseline             0.262$\\pm$0.032  1.721$\\pm$0.146            1.0  \nProject              0.226$\\pm$0.022  1.134$\\pm$0.135            0.2  \nReduction            0.035$\\pm$0.040  1.397$\\pm$0.026            1.0  \nSenSR                0.237$\\pm$0.018  1.091$\\pm$0.098            0.1  ",
      "text/html": "<div>\n<style scoped>\n    .dataframe tbody tr th:only-of-type {\n        vertical-align: middle;\n    }\n\n    .dataframe tbody tr th {\n        vertical-align: top;\n    }\n\n    .dataframe thead tr th {\n        text-align: left;\n    }\n</style>\n<table border=\"1\" class=\"dataframe\">\n  <thead>\n    <tr>\n      <th></th>\n      <th>Balanced Acc</th>\n      <th>$\\text{AOD}_{\\text{gen}}$</th>\n      <th>$\\text{AOD}_{\\text{race}}$</th>\n      <th>$T_n$</th>\n      <th>Rejection Prop</th>\n    </tr>\n    <tr>\n      <th></th>\n      <th></th>\n      <th></th>\n      <th></th>\n      <th></th>\n      <th></th>\n    </tr>\n  </thead>\n  <tbody>\n    <tr>\n      <th>Baseline</th>\n      <td>0.675$\\pm$0.013</td>\n      <td>0.209$\\pm$0.037</td>\n      <td>0.262$\\pm$0.032</td>\n      <td>1.721$\\pm$0.146</td>\n      <td>1.0</td>\n    </tr>\n    <tr>\n      <th>Project</th>\n      <td>0.645$\\pm$0.016</td>\n      <td>0.052$\\pm$0.034</td>\n      <td>0.226$\\pm$0.022</td>\n      <td>1.134$\\pm$0.135</td>\n      <td>0.2</td>\n    </tr>\n    <tr>\n      <th>Reduction</th>\n      <td>0.653$\\pm$0.013</td>\n      <td>-0.007$\\pm$0.051</td>\n      <td>0.035$\\pm$0.040</td>\n      <td>1.397$\\pm$0.026</td>\n      <td>1.0</td>\n    </tr>\n    <tr>\n      <th>SenSR</th>\n      <td>0.645$\\pm$0.021</td>\n      <td>0.058$\\pm$0.029</td>\n      <td>0.237$\\pm$0.018</td>\n      <td>1.091$\\pm$0.098</td>\n      <td>0.1</td>\n    </tr>\n  </tbody>\n</table>\n</div>"
     },
     "metadata": {},
     "execution_count": 127
    }
   ],
   "source": [
    "ind = dict()\n",
    "for i, expt in enumerate(row_names):\n",
    "    ind[i] = expt\n",
    "    res = result[colnames].rename(index=ind)\n",
    "res"
   ]
  },
  {
   "cell_type": "code",
   "execution_count": 31,
   "metadata": {
    "tags": []
   },
   "outputs": [
    {
     "output_type": "stream",
     "name": "stdout",
     "text": "\\begin{tabular}{lccccc}\n\\toprule\n{} &     Balanced Acc & $\\text{AOD}_{\\text{gen}}$ & $\\text{AOD}_{\\text{race}}$ &            $T_n$ & Rejection Prop \\\\\n{} \\\\\n\\midrule\nBaseline  &  0.677$\\pm$0.012 &           0.228$\\pm$0.029 &            0.252$\\pm$0.035 &  1.992$\\pm$0.149 &            1.0 \\\\\nProject   &  0.645$\\pm$0.017 &           0.047$\\pm$0.023 &            0.208$\\pm$0.024 &  1.253$\\pm$0.420 &            0.2 \\\\\nReduction &  0.655$\\pm$0.013 &          -0.004$\\pm$0.045 &            0.028$\\pm$0.047 &  1.534$\\pm$0.043 &            1.0 \\\\\nSenSR     &  0.642$\\pm$0.020 &           0.060$\\pm$0.023 &            0.225$\\pm$0.028 &  1.247$\\pm$0.489 &            0.2 \\\\\n\\bottomrule\n\\end{tabular}\n\n"
    }
   ],
   "source": [
    "print(res.to_latex(escape=False, column_format='l' + 'c'*len(colnames)))"
   ]
  },
  {
   "cell_type": "code",
   "execution_count": 132,
   "metadata": {},
   "outputs": [
    {
     "output_type": "execute_result",
     "data": {
      "text/plain": "array([[  767, 18764],\n       [ 5192, 98047],\n       [50057, 73349],\n       [21440, 98448],\n       [20609, 49100],\n       [ 7751, 43757],\n       [31228, 36230],\n       [97561, 21758],\n       [ 2367,  4534],\n       [51668, 64395]])"
     },
     "metadata": {},
     "execution_count": 132
    }
   ],
   "source": [
    "import numpy as np\n",
    "a = np.load('seeds.npy')\n",
    "a"
   ]
  },
  {
   "cell_type": "code",
   "execution_count": 129,
   "metadata": {},
   "outputs": [],
   "source": [
    "a[0, 0], a[0, 1] = 767, 1876"
   ]
  },
  {
   "cell_type": "code",
   "execution_count": 130,
   "metadata": {},
   "outputs": [
    {
     "output_type": "execute_result",
     "data": {
      "text/plain": "array([[  767, 18764],\n       [ 5192, 98047],\n       [50057, 73349],\n       [21440, 98448],\n       [20609, 49100],\n       [ 7751, 43757],\n       [31228, 36230],\n       [97561, 21758],\n       [ 2367,  4534],\n       [51668, 64395]])"
     },
     "metadata": {},
     "execution_count": 130
    }
   ],
   "source": [
    "a"
   ]
  },
  {
   "cell_type": "code",
   "execution_count": 131,
   "metadata": {},
   "outputs": [],
   "source": [
    "np.save('seeds.npy', a)"
   ]
  },
  {
   "cell_type": "code",
   "execution_count": null,
   "metadata": {},
   "outputs": [],
   "source": []
  }
 ],
 "metadata": {
  "kernelspec": {
   "display_name": "Python 3.7.4 64-bit",
   "language": "python",
   "name": "python37464bit48aa32fa6dba4f1bbd692e320b15fd93"
  },
  "language_info": {
   "codemirror_mode": {
    "name": "ipython",
    "version": 3
   },
   "file_extension": ".py",
   "mimetype": "text/x-python",
   "name": "python",
   "nbconvert_exporter": "python",
   "pygments_lexer": "ipython3",
   "version": "3.7.4-final"
  }
 },
 "nbformat": 4,
 "nbformat_minor": 2
}